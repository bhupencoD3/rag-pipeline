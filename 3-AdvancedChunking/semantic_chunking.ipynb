{
 "cells": [
  {
   "cell_type": "markdown",
   "id": "f30d101b",
   "metadata": {},
   "source": [
    "##### Semantic chunking"
   ]
  },
  {
   "cell_type": "code",
   "execution_count": 26,
   "id": "1425b433",
   "metadata": {},
   "outputs": [],
   "source": [
    "from sentence_transformers import SentenceTransformer\n",
    "from sklearn.metrics.pairwise import cosine_similarity\n",
    "import numpy as np\n",
    "import os"
   ]
  },
  {
   "cell_type": "code",
   "execution_count": 27,
   "id": "ba098925",
   "metadata": {},
   "outputs": [
    {
     "data": {
      "text/plain": [
       "'Machine learning is a branch of artificial intelligence focused on learning patterns from data.Supervised learning uses labeled datasets to train predictive models.In unsupervised learning, algorithms discover hidden structures in unlabeled data.Reinforcement learning trains agents by rewarding good actions and penalizing bad ones.Deep learning relies on multi-layered neural networks to solve complex problems.Transformers have become the backbone of modern NLP models.Convolutional Neural Networks are widely used in image recognition tasks.NLP enables computers to understand, process, and generate human language.Sentiment analysis is an NLP task that identifies positive, negative, or neutral opinions in text.Machine translation allows systems to convert text from one language to another.Text summarization condenses large documents into concise versions while preserving meaning.Question answering systems use NLP to fetch and generate relevant responses.Large Language Models like GPT-4 are examples of advanced NLP systems.Drinking enough water throughout the day helps maintain energy and focus.A balanced diet improves overall health and prevents lifestyle diseases.Getting regular exercise keeps both the body and mind active.Reading daily, even for a short time, strengthens focus and knowledge.Meditation is often recommended to reduce stress and increase clarity.Sleep quality directly affects productivity and mood during the day.Social media platforms use algorithms to recommend personalized content.Online shopping websites analyze user behavior to suggest products.Recommendation systems are powered by machine learning models.Cybersecurity has become essential as digital threats continue to grow.Cloud computing allows businesses to scale resources on demand.The rise of smartphones has changed how people communicate and work.Small consistent habits often lead to big long-term results.Learning a new skill requires patience, practice, and discipline.Failures are stepping stones toward improvement and eventual success.Setting clear goals gives direction and focus in life.Time management is the key to balancing work, study, and personal life.Surrounding yourself with positive people improves mindset and motivation.'"
      ]
     },
     "execution_count": 27,
     "metadata": {},
     "output_type": "execute_result"
    }
   ],
   "source": [
    "with open(file='langchain_intro.txt',mode='r') as f:\n",
    "    text = f.read()\n",
    "text"
   ]
  },
  {
   "cell_type": "code",
   "execution_count": null,
   "id": "31b3ceef",
   "metadata": {},
   "outputs": [
    {
     "name": "stdout",
     "output_type": "stream",
     "text": [
      "Semantice chunks\n",
      "\n",
      "Chunk 1:\n",
      "Machine learning is a branch of artificial intelligence focused on learning patterns from data.\n",
      "\n",
      "Chunk 2:\n",
      "Supervised learning uses labeled datasets to train predictive models.\n",
      "\n",
      "Chunk 3:\n",
      "In unsupervised learning, algorithms discover hidden structures in unlabeled data.\n",
      "\n",
      "Chunk 4:\n",
      "Reinforcement learning trains agents by rewarding good actions and penalizing bad ones.\n",
      "\n",
      "Chunk 5:\n",
      "Deep learning relies on multi-layered neural networks to solve complex problems.\n",
      "\n",
      "Chunk 6:\n",
      "Transformers have become the backbone of modern NLP models.\n",
      "\n",
      "Chunk 7:\n",
      "Convolutional Neural Networks are widely used in image recognition tasks.\n",
      "\n",
      "Chunk 8:\n",
      "NLP enables computers to understand, process, and generate human language.\n",
      "\n",
      "Chunk 9:\n",
      "Sentiment analysis is an NLP task that identifies positive, negative, or neutral opinions in text.\n",
      "\n",
      "Chunk 10:\n",
      "Machine translation allows systems to convert text from one language to another.\n",
      "\n",
      "Chunk 11:\n",
      "Text summarization condenses large documents into concise versions while preserving meaning.\n",
      "\n",
      "Chunk 12:\n",
      "Question answering systems use NLP to fetch and generate relevant responses.\n",
      "\n",
      "Chunk 13:\n",
      "Large Language Models like GPT-4 are examples of advanced NLP systems.\n",
      "\n",
      "Chunk 14:\n",
      "Drinking enough water throughout the day helps maintain energy and focus.\n",
      "\n",
      "Chunk 15:\n",
      "A balanced diet improves overall health and prevents lifestyle diseases.\n",
      "\n",
      "Chunk 16:\n",
      "Getting regular exercise keeps both the body and mind active.\n",
      "\n",
      "Chunk 17:\n",
      "Reading daily, even for a short time, strengthens focus and knowledge.\n",
      "\n",
      "Chunk 18:\n",
      "Meditation is often recommended to reduce stress and increase clarity.\n",
      "\n",
      "Chunk 19:\n",
      "Sleep quality directly affects productivity and mood during the day.\n",
      "\n",
      "Chunk 20:\n",
      "Social media platforms use algorithms to recommend personalized content.\n",
      "\n",
      "Chunk 21:\n",
      "Online shopping websites analyze user behavior to suggest products.\n",
      "\n",
      "Chunk 22:\n",
      "Recommendation systems are powered by machine learning models.\n",
      "\n",
      "Chunk 23:\n",
      "Cybersecurity has become essential as digital threats continue to grow.\n",
      "\n",
      "Chunk 24:\n",
      "Cloud computing allows businesses to scale resources on demand.\n",
      "\n",
      "Chunk 25:\n",
      "The rise of smartphones has changed how people communicate and work.\n",
      "\n",
      "Chunk 26:\n",
      "Small consistent habits often lead to big long-term results.\n",
      "\n",
      "Chunk 27:\n",
      "Learning a new skill requires patience, practice, and discipline.\n",
      "\n",
      "Chunk 28:\n",
      "Failures are stepping stones toward improvement and eventual success.\n",
      "\n",
      "Chunk 29:\n",
      "Setting clear goals gives direction and focus in life.\n",
      "\n",
      "Chunk 30:\n",
      "Time management is the key to balancing work, study, and personal life.\n",
      "\n",
      "Chunk 31:\n",
      "Surrounding yourself with positive people improves mindset and motivation.\n"
     ]
    }
   ],
   "source": [
    "# initialize the model\n",
    "model = SentenceTransformer(\n",
    "    'all-miniLM-L6-v2'\n",
    ")\n",
    "\n",
    "# step:1 split into sentences\n",
    "sentences = [sentence.strip() for sentence in text.split(\"\\n\") if sentence.strip()]\n",
    "\n",
    "# step:2 Embed each sentence\n",
    "embeddings = model.encode(sentences)\n",
    "\n",
    "# step:3 Initialize parameters \n",
    "threshold = 0.6\n",
    "chunks = []\n",
    "current_chunk = [sentences[0]]\n",
    "\n",
    "# step:4 Semantic grouping based on threshold\n",
    "for i in range(1,len(sentences)):\n",
    "    similarity = cosine_similarity(\n",
    "        [embeddings[i-1]],\n",
    "        [embeddings[i]]\n",
    "    )[0][0]\n",
    "    if similarity >= threshold:\n",
    "        current_chunk.append(sentences[i])\n",
    "    else:\n",
    "        chunks.append(\" \".join(current_chunk))\n",
    "        current_chunk=[sentences[i]]\n",
    "\n",
    "# append the last chunk\n",
    "chunks.append(\" \".join(current_chunk))\n",
    "\n",
    "\n",
    "print(\"Semantice chunks\")\n",
    "for idx,chunk in enumerate(chunks):\n",
    "    print(f\"\\nChunk {idx+1}:\\n{chunk}\")"
   ]
  },
  {
   "cell_type": "code",
   "execution_count": 1,
   "id": "a22cd9f0",
   "metadata": {},
   "outputs": [
    {
     "name": "stderr",
     "output_type": "stream",
     "text": [
      "/home/bhupen/Python_Learning/RAG/.venv/lib/python3.13/site-packages/tqdm/auto.py:21: TqdmWarning: IProgress not found. Please update jupyter and ipywidgets. See https://ipywidgets.readthedocs.io/en/stable/user_install.html\n",
      "  from .autonotebook import tqdm as notebook_tqdm\n"
     ]
    }
   ],
   "source": [
    "from sentence_transformers import SentenceTransformer\n",
    "from sklearn.metrics.pairwise import cosine_similarity\n",
    "from langchain.schema import Document\n",
    "from langchain.vectorstores import FAISS\n",
    "from langchain.chat_models import init_chat_model\n",
    "from langchain.schema.runnable import RunnableLambda,RunnableMap\n",
    "from langchain.prompts import PromptTemplate\n",
    "from langchain_core.output_parsers import StrOutputParser\n",
    "import os"
   ]
  },
  {
   "cell_type": "code",
   "execution_count": 2,
   "id": "f73b9bea",
   "metadata": {},
   "outputs": [],
   "source": [
    "os.environ[\"GROQ_API_KEY\"]=os.getenv(\"GROQ_API_KEY\")"
   ]
  },
  {
   "cell_type": "code",
   "execution_count": 28,
   "id": "88e5c9aa",
   "metadata": {},
   "outputs": [],
   "source": [
    "### custom semantic chunker with threshold\n",
    "\n",
    "class ThresholdSemanticChunker:\n",
    "    def __init__(self,model_name='all-miniLM-L6-v2',threshold=0.7):\n",
    "        self.model = SentenceTransformer(model_name)\n",
    "        self.threshold = threshold\n",
    "\n",
    "    def split(self,text:str):\n",
    "        sentences = [sentence for sentence in text.split(\".\") if sentence.strip()]\n",
    "        embeddings = self.model.encode(sentences)\n",
    "        chunks = []\n",
    "        current_chunk = [sentences[0]]\n",
    "        for i in range(1,len(sentences)):\n",
    "            similarity = cosine_similarity([embeddings[i-1]],[embeddings[i]])[0][0]\n",
    "            if similarity >= self.threshold:\n",
    "                current_chunk.append(sentences[i])\n",
    "            else:\n",
    "                chunks.append(\". \".join(current_chunk) + \".\")\n",
    "                current_chunk=[sentences[i]]\n",
    "\n",
    "        chunks.append(\". \".join(current_chunk) + \".\")\n",
    "        return chunks\n",
    "    \n",
    "    def split_documents(self,docs):\n",
    "        result=[]\n",
    "        for doc in docs:\n",
    "            for chunk in self.split(doc.page_content):\n",
    "                result.append(Document(page_content=chunk,metadata=doc.metadata))\n",
    "            \n",
    "        return result"
   ]
  },
  {
   "cell_type": "code",
   "execution_count": 29,
   "id": "21c1c746",
   "metadata": {},
   "outputs": [],
   "source": [
    "doc = Document(page_content=text)"
   ]
  },
  {
   "cell_type": "code",
   "execution_count": 30,
   "id": "454b8892",
   "metadata": {},
   "outputs": [
    {
     "data": {
      "text/plain": [
       "[Document(metadata={}, page_content='Machine learning is a branch of artificial intelligence focused on learning patterns from data.'),\n",
       " Document(metadata={}, page_content='Supervised learning uses labeled datasets to train predictive models.'),\n",
       " Document(metadata={}, page_content='In unsupervised learning, algorithms discover hidden structures in unlabeled data.'),\n",
       " Document(metadata={}, page_content='Reinforcement learning trains agents by rewarding good actions and penalizing bad ones.'),\n",
       " Document(metadata={}, page_content='Deep learning relies on multi-layered neural networks to solve complex problems.'),\n",
       " Document(metadata={}, page_content='Transformers have become the backbone of modern NLP models.'),\n",
       " Document(metadata={}, page_content='Convolutional Neural Networks are widely used in image recognition tasks.'),\n",
       " Document(metadata={}, page_content='NLP enables computers to understand, process, and generate human language.'),\n",
       " Document(metadata={}, page_content='Sentiment analysis is an NLP task that identifies positive, negative, or neutral opinions in text.'),\n",
       " Document(metadata={}, page_content='Machine translation allows systems to convert text from one language to another.'),\n",
       " Document(metadata={}, page_content='Text summarization condenses large documents into concise versions while preserving meaning.'),\n",
       " Document(metadata={}, page_content='Question answering systems use NLP to fetch and generate relevant responses.'),\n",
       " Document(metadata={}, page_content='Large Language Models like GPT-4 are examples of advanced NLP systems.'),\n",
       " Document(metadata={}, page_content='Drinking enough water throughout the day helps maintain energy and focus.'),\n",
       " Document(metadata={}, page_content='A balanced diet improves overall health and prevents lifestyle diseases.'),\n",
       " Document(metadata={}, page_content='Getting regular exercise keeps both the body and mind active.'),\n",
       " Document(metadata={}, page_content='Reading daily, even for a short time, strengthens focus and knowledge.'),\n",
       " Document(metadata={}, page_content='Meditation is often recommended to reduce stress and increase clarity.'),\n",
       " Document(metadata={}, page_content='Sleep quality directly affects productivity and mood during the day.'),\n",
       " Document(metadata={}, page_content='Social media platforms use algorithms to recommend personalized content.'),\n",
       " Document(metadata={}, page_content='Online shopping websites analyze user behavior to suggest products.'),\n",
       " Document(metadata={}, page_content='Recommendation systems are powered by machine learning models.'),\n",
       " Document(metadata={}, page_content='Cybersecurity has become essential as digital threats continue to grow.'),\n",
       " Document(metadata={}, page_content='Cloud computing allows businesses to scale resources on demand.'),\n",
       " Document(metadata={}, page_content='The rise of smartphones has changed how people communicate and work.'),\n",
       " Document(metadata={}, page_content='Small consistent habits often lead to big long-term results.'),\n",
       " Document(metadata={}, page_content='Learning a new skill requires patience, practice, and discipline.'),\n",
       " Document(metadata={}, page_content='Failures are stepping stones toward improvement and eventual success.'),\n",
       " Document(metadata={}, page_content='Setting clear goals gives direction and focus in life.'),\n",
       " Document(metadata={}, page_content='Time management is the key to balancing work, study, and personal life.'),\n",
       " Document(metadata={}, page_content='Surrounding yourself with positive people improves mindset and motivation.')]"
      ]
     },
     "execution_count": 30,
     "metadata": {},
     "output_type": "execute_result"
    }
   ],
   "source": [
    "## chunking\n",
    "chunker = ThresholdSemanticChunker(threshold=0.7)\n",
    "chunks = chunker.split_documents([doc])\n",
    "chunks"
   ]
  },
  {
   "cell_type": "code",
   "execution_count": 32,
   "id": "14a01fb1",
   "metadata": {},
   "outputs": [],
   "source": [
    "### vector store\n",
    "from langchain_openai import OpenAIEmbeddings\n",
    "os.environ[\"OPENAI_API_KEY\"]=os.getenv(\"OPENAI_API_KEY\")\n",
    "embeddings = OpenAIEmbeddings(model='text-embedding-3-small') \n",
    "vector_store = FAISS.from_documents(chunks,embeddings)\n",
    "retriever = vector_store.as_retriever()"
   ]
  },
  {
   "cell_type": "code",
   "execution_count": 33,
   "id": "60ea27fd",
   "metadata": {},
   "outputs": [],
   "source": [
    "## prompt template\n",
    "template = \"\"\"You are an AI assistant. Answer the question strictly based on the provided context. \n",
    "- If the answer is in the context, give it clearly and concisely. \n",
    "- If the answer cannot be found in the context, reply with \"I don’t know based on the given context.\" \n",
    "Do not use outside knowledge.\n",
    "\n",
    "Context:\n",
    "{context}\n",
    "\n",
    "Question:\n",
    "{question}\n",
    "\n",
    "Answer:\n",
    "\"\"\"\n",
    "prompt = PromptTemplate.from_template(template)"
   ]
  },
  {
   "cell_type": "code",
   "execution_count": 35,
   "id": "48ad0b53",
   "metadata": {},
   "outputs": [
    {
     "name": "stdout",
     "output_type": "stream",
     "text": [
      "Deep learning relies on multi-layered neural networks to solve complex problems.  \n",
      "\n"
     ]
    }
   ],
   "source": [
    "## LLM\n",
    "llm = init_chat_model(model='groq:gemma2-9b-it')\n",
    "\n",
    "# LCEL chain with retrieval\n",
    "\n",
    "rag_chain = (\n",
    "    RunnableMap({\n",
    "        \"context\": lambda x: retriever.invoke(x[\"question\"]),\n",
    "        \"question\": lambda x: x[\"question\"],\n",
    "    })\n",
    "    | prompt\n",
    "    | llm\n",
    "    | StrOutputParser()\n",
    ")\n",
    "\n",
    "answer = rag_chain.invoke({\"question\": \"What is deep learning?\"})\n",
    "print(answer)\n"
   ]
  },
  {
   "cell_type": "markdown",
   "id": "3a4aa38c",
   "metadata": {},
   "source": [
    "##### Semantic chunker with Langchain"
   ]
  },
  {
   "cell_type": "code",
   "execution_count": 36,
   "id": "ddfa52a2",
   "metadata": {},
   "outputs": [],
   "source": [
    "from langchain_openai import OpenAIEmbeddings\n",
    "from langchain_experimental.text_splitter import SemanticChunker\n",
    "from langchain.document_loaders import TextLoader"
   ]
  },
  {
   "cell_type": "code",
   "execution_count": 38,
   "id": "8f18e536",
   "metadata": {},
   "outputs": [
    {
     "name": "stdout",
     "output_type": "stream",
     "text": [
      "\n",
      " chunk 1:\n",
      " Machine learning is a branch of artificial intelligence focused on learning patterns from data. Supervised learning uses labeled datasets to train predictive models. In unsupervised learning, algorithms discover hidden structures in unlabeled data. Reinforcement learning trains agents by rewarding good actions and penalizing bad ones. Deep learning relies on multi-layered neural networks to solve complex problems. Transformers have become the backbone of modern NLP models. Convolutional Neural Networks are widely used in image recognition tasks. NLP enables computers to understand, process, and generate human language. Sentiment analysis is an NLP task that identifies positive, negative, or neutral opinions in text. Machine translation allows systems to convert text from one language to another. Text summarization condenses large documents into concise versions while preserving meaning. Question answering systems use NLP to fetch and generate relevant responses. Large Language Models like GPT-4 are examples of advanced NLP systems. Drinking enough water throughout the day helps maintain energy and focus.\n",
      "\n",
      " chunk 2:\n",
      " A balanced diet improves overall health and prevents lifestyle diseases. Getting regular exercise keeps both the body and mind active. Reading daily, even for a short time, strengthens focus and knowledge. Meditation is often recommended to reduce stress and increase clarity. Sleep quality directly affects productivity and mood during the day. Social media platforms use algorithms to recommend personalized content.\n",
      "\n",
      " chunk 3:\n",
      " Online shopping websites analyze user behavior to suggest products. Recommendation systems are powered by machine learning models. Cybersecurity has become essential as digital threats continue to grow. Cloud computing allows businesses to scale resources on demand. The rise of smartphones has changed how people communicate and work. Small consistent habits often lead to big long-term results. Learning a new skill requires patience, practice, and discipline. Failures are stepping stones toward improvement and eventual success. Setting clear goals gives direction and focus in life. Time management is the key to balancing work, study, and personal life. Surrounding yourself with positive people improves mindset and motivation.\n"
     ]
    }
   ],
   "source": [
    "## load the documents\n",
    "loader = TextLoader('langchain_intro.txt')\n",
    "docs=loader.load()\n",
    "\n",
    "# initialize embedding model\n",
    "embedding = OpenAIEmbeddings()\n",
    "\n",
    "chunker = SemanticChunker(embedding)\n",
    "\n",
    "chunks = chunker.split_documents(docs)\n",
    "\n",
    "for i,chunk in enumerate(chunks):\n",
    "    print(f\"\\n chunk {i+1}:\\n {chunk.page_content}\")"
   ]
  },
  {
   "cell_type": "code",
   "execution_count": null,
   "id": "bff8c39b",
   "metadata": {},
   "outputs": [],
   "source": []
  }
 ],
 "metadata": {
  "kernelspec": {
   "display_name": "RAG",
   "language": "python",
   "name": "python3"
  },
  "language_info": {
   "codemirror_mode": {
    "name": "ipython",
    "version": 3
   },
   "file_extension": ".py",
   "mimetype": "text/x-python",
   "name": "python",
   "nbconvert_exporter": "python",
   "pygments_lexer": "ipython3",
   "version": "3.13.3"
  }
 },
 "nbformat": 4,
 "nbformat_minor": 5
}
