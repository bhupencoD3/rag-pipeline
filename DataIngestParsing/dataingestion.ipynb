{
 "cells": [
  {
   "cell_type": "markdown",
   "id": "5eb07847",
   "metadata": {},
   "source": [
    "##### Introduction to Data Ingetion"
   ]
  },
  {
   "cell_type": "code",
   "execution_count": 12,
   "id": "c4591989",
   "metadata": {},
   "outputs": [],
   "source": [
    "from typing import List,Dict,Any\n",
    "import os\n",
    "import pandas as pd\n"
   ]
  },
  {
   "cell_type": "code",
   "execution_count": 13,
   "id": "e8c29d87",
   "metadata": {},
   "outputs": [
    {
     "name": "stdout",
     "output_type": "stream",
     "text": [
      "Setup completed\n"
     ]
    }
   ],
   "source": [
    "from langchain_core.documents import Document\n",
    "from langchain.text_splitter import(\n",
    "    RecursiveCharacterTextSplitter,\n",
    "    CharacterTextSplitter,\n",
    "    TokenTextSplitter\n",
    ")\n",
    "print(\"Setup completed\")"
   ]
  },
  {
   "cell_type": "markdown",
   "id": "488b9fdb",
   "metadata": {},
   "source": [
    "###### Understanding Document Structure in Langchain"
   ]
  },
  {
   "cell_type": "code",
   "execution_count": 14,
   "id": "b9d4b8ac",
   "metadata": {},
   "outputs": [
    {
     "name": "stdout",
     "output_type": "stream",
     "text": [
      "Document Structure:-\n",
      "Content:This is the main text content that will be embedded and searched.\n",
      "metadata: {'source': 'example.txt', 'page': 1, 'author': 'bhopindrasingh parmar', 'date_created': '2025-08-23', 'custom_field': 'any_value'}\n"
     ]
    }
   ],
   "source": [
    "# create a simple document\n",
    "doc = Document(\n",
    "    page_content=\"This is the main text content that will be embedded and searched.\",\n",
    "    metadata = {\n",
    "        \"source\":\"example.txt\",\n",
    "        \"page\":1,\n",
    "        \"author\":\"bhopindrasingh parmar\",\n",
    "        \"date_created\":\"2025-08-23\",\n",
    "        \"custom_field\":\"any_value\"\n",
    "    }\n",
    ")\n",
    "\n",
    "print(\"Document Structure:-\")\n",
    "print(f\"Content:{doc.page_content}\")\n",
    "print(f\"metadata: {doc.metadata}\")\n"
   ]
  },
  {
   "cell_type": "markdown",
   "id": "32b7af41",
   "metadata": {},
   "source": [
    "###### Text File(.txt)"
   ]
  },
  {
   "cell_type": "code",
   "execution_count": 15,
   "id": "9d517ad2",
   "metadata": {},
   "outputs": [],
   "source": [
    "import os\n",
    "os.makedirs(\"data/text_files\",exist_ok=True)"
   ]
  },
  {
   "cell_type": "code",
   "execution_count": null,
   "id": "5fc98172",
   "metadata": {},
   "outputs": [
    {
     "name": "stdout",
     "output_type": "stream",
     "text": [
      "Sample text file has created!\n"
     ]
    }
   ],
   "source": [
    "sample_texts = {\n",
    "    \"data/text_files/python_intro.txt\":'''\n",
    "Python is a high-level, interpreted programming language that has become one of the most popular tools in the tech world. Known for its simple syntax and readability, it allows developers to write clean and efficient code without getting lost in overly complex structures. Unlike low-level languages, Python abstracts many details of computer operations, making it beginner-friendly while still being powerful enough for advanced projects. Its vast ecosystem of libraries and frameworks gives it a huge advantage in almost every domain of computing.\n",
    "\n",
    "Python is used across a wide range of industries and applications. In web development, frameworks like Django and Flask help developers build robust websites and APIs. In data science and analytics, libraries like Pandas, NumPy, and Matplotlib are essential for handling and visualizing data. Python is also dominant in artificial intelligence and machine learning thanks to libraries such as TensorFlow, PyTorch, and Scikit-learn. Beyond that, it’s used in automation, scripting, cybersecurity, DevOps, and even game development. Its versatility is one of the main reasons it continues to dominate the programming landscape.\n",
    "\n",
    "Python in Machine Learning\n",
    "One of Python’s strongest suits is its role in machine learning (ML). Machine learning is a subset of artificial intelligence where systems learn patterns from data instead of being explicitly programmed. Python makes this process easier because of its extensive libraries and active community. Developers and researchers use it to build models that can predict outcomes, classify information, and even generate new content.\n",
    "\n",
    "Types of Machine Learning Techniques\n",
    "There are several types of machine learning techniques, each serving different purposes:\n",
    "\n",
    "Supervised Learning – This involves training a model on labeled data, meaning the inputs and correct outputs are known. It’s commonly used for tasks like spam detection, stock price prediction, or medical diagnosis.\n",
    "\n",
    "Unsupervised Learning – Here, the model works with unlabeled data to discover hidden patterns or groupings. A good example is customer segmentation, where businesses group users based on behavior without prior labels.\n",
    "\n",
    "Reinforcement Learning – In this technique, an agent learns by interacting with its environment and receiving rewards or penalties. It’s used in robotics, gaming (like AlphaGo), and self-driving cars.\n",
    "\n",
    "Semi-Supervised Learning – A mix of supervised and unsupervised approaches, where models are trained with a small portion of labeled data and a large portion of unlabeled data. It’s helpful when labeling data is expensive or time-consuming.\n",
    "\n",
    "Deep Learning – A subset of machine learning that uses neural networks with many layers to handle complex tasks like image recognition, natural language processing, and voice assistants.\n",
    "''',\n",
    "\n",
    "\"data/text_files/intro_to_rag.txt\":'''\n",
    "Retrieval-Augmented Generation, or RAG, is a framework that combines two powerful AI techniques: information retrieval and text generation. Traditional large language models (LLMs) like GPT rely solely on their pre-trained knowledge, which is limited to what they’ve seen during training. This can cause them to produce outdated or incorrect information. RAG fixes this issue by retrieving relevant, up-to-date information from an external knowledge source—like a database, vector store, or even the web—and then using a language model to generate responses based on that retrieved context.\n",
    "\n",
    "How RAG Works\n",
    "The RAG process happens in two main steps: retrieval and generation. In the retrieval step, the system takes the user’s query and searches for the most relevant pieces of information, often using a vector database that stores text in numerical embeddings. Then in the generation step, the retrieved documents are passed to a large language model, which uses them as context to produce an accurate, coherent answer. This approach reduces hallucinations, improves factual accuracy, and ensures that the responses are grounded in real data rather than guesses.\n",
    "\n",
    "Applications of RAG\n",
    "RAG has a wide range of applications across industries. In customer support, it can provide instant, accurate answers by pulling information from product manuals or FAQs. In healthcare, it can assist doctors by retrieving the latest medical research before generating a summary. In legal and finance, it helps professionals by finding relevant case studies, policies, or market data to create well-informed reports. Essentially, RAG is the backbone of modern AI assistants that need to be both intelligent and reliable.\n",
    "\n",
    "Why RAG Matters\n",
    "The real strength of RAG lies in its ability to extend the capabilities of language models without retraining them from scratch. Instead of building an entirely new model every time knowledge changes, developers can simply update the external database. This makes RAG not only powerful but also scalable and cost-efficient. As AI continues to grow, RAG will play a crucial role in building applications that can reason over private, domain-specific, or constantly changing data sources.\n",
    "'''\n",
    "\n",
    "}\n",
    "\n",
    "for file_path,content in sample_texts.items():\n",
    "    with open(file_path,'w',encoding='utf-8') as f:\n",
    "        f.write(content)\n",
    "\n",
    "print(\"Sample text file has created!\")\n"
   ]
  },
  {
   "cell_type": "markdown",
   "id": "ca369460",
   "metadata": {},
   "source": [
    "TextLoader"
   ]
  },
  {
   "cell_type": "code",
   "execution_count": 20,
   "id": "d06dd4ce",
   "metadata": {},
   "outputs": [
    {
     "name": "stdout",
     "output_type": "stream",
     "text": [
      "Loaded 1 document\n",
      "Content preview:\n",
      "Python is a high-level, interpreted programming language that has become one of the most popular to...\n",
      "metadata: {'source': 'data/text_files/python_intro.txt'}\n"
     ]
    }
   ],
   "source": [
    "from langchain.document_loaders import TextLoader\n",
    "from langchain_community.document_loaders import TextLoader\n",
    "\n",
    "# loading a single text file\n",
    "loader = TextLoader(\"data/text_files/python_intro.txt\",encoding='utf-8')\n",
    "\n",
    "documents = loader.load()\n",
    "\n",
    "print(f\"Loaded {len(documents)} document\")\n",
    "print(f\"Content preview:{documents[0].page_content[:100]}...\")\n",
    "print(f\"metadata: {documents[0].metadata}\")\n"
   ]
  },
  {
   "cell_type": "markdown",
   "id": "bdda41be",
   "metadata": {},
   "source": [
    "##### DirectoryLoader(reading entire dir[multiple files])"
   ]
  },
  {
   "cell_type": "code",
   "execution_count": 21,
   "id": "7070fbff",
   "metadata": {},
   "outputs": [
    {
     "name": "stderr",
     "output_type": "stream",
     "text": [
      "100%|██████████| 2/2 [00:00<00:00, 2923.88it/s]"
     ]
    },
    {
     "name": "stdout",
     "output_type": "stream",
     "text": [
      "Loaded 2 documents\n",
      "\n",
      "Document 1\n",
      "Source:data/text_files/python_intro.txt\n",
      "Length: 2826 characters\n",
      "\n",
      "Document 2\n",
      "Source:data/text_files/intro_to_rag.txt\n",
      "Length: 2210 characters\n"
     ]
    },
    {
     "name": "stderr",
     "output_type": "stream",
     "text": [
      "\n"
     ]
    }
   ],
   "source": [
    "from langchain_community.document_loaders import DirectoryLoader\n",
    "\n",
    "#load all the text files from the directory\n",
    "dir_loader = DirectoryLoader(\n",
    "    \"data/text_files\",\n",
    "    glob=\"**/*.txt\", ## pattern to match files\n",
    "    loader_cls=TextLoader, ## loader class to use\n",
    "    loader_kwargs={'encoding':'utf-8'},\n",
    "    show_progress=True\n",
    ")\n",
    "\n",
    "documents = dir_loader.load()\n",
    "\n",
    "print(f\"Loaded {len(documents)} documents\")\n",
    "for i,doc in enumerate(documents):\n",
    "    print(f\"\\nDocument {i+1}\")\n",
    "    print(f\"Source:{doc.metadata['source']}\")\n",
    "    print(f\"Length: {len(doc.page_content)} characters\")"
   ]
  },
  {
   "cell_type": "code",
   "execution_count": null,
   "id": "96ca3bcb",
   "metadata": {},
   "outputs": [],
   "source": []
  }
 ],
 "metadata": {
  "kernelspec": {
   "display_name": "RAG",
   "language": "python",
   "name": "python3"
  },
  "language_info": {
   "codemirror_mode": {
    "name": "ipython",
    "version": 3
   },
   "file_extension": ".py",
   "mimetype": "text/x-python",
   "name": "python",
   "nbconvert_exporter": "python",
   "pygments_lexer": "ipython3",
   "version": "3.13.3"
  }
 },
 "nbformat": 4,
 "nbformat_minor": 5
}
