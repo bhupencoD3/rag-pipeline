{
 "cells": [
  {
   "cell_type": "markdown",
   "id": "3e0d9a2f",
   "metadata": {},
   "source": [
    "##### ChromaDB"
   ]
  },
  {
   "cell_type": "code",
   "execution_count": 2,
   "id": "e73271e1",
   "metadata": {},
   "outputs": [],
   "source": [
    "import os\n",
    "from dotenv import load_dotenv"
   ]
  },
  {
   "cell_type": "code",
   "execution_count": 3,
   "id": "b1062f44",
   "metadata": {},
   "outputs": [],
   "source": [
    "from langchain.text_splitter import RecursiveCharacterTextSplitter\n",
    "from langchain_community.document_loaders import TextLoader\n",
    "from langchain_openai import OpenAIEmbeddings\n",
    "from langchain.schema import Document\n",
    "import numpy as np"
   ]
  },
  {
   "cell_type": "markdown",
   "id": "5a26c397",
   "metadata": {},
   "source": [
    "###### Vector store"
   ]
  },
  {
   "cell_type": "code",
   "execution_count": 20,
   "id": "0d29d05d",
   "metadata": {},
   "outputs": [],
   "source": [
    "from langchain_community.vectorstores import Chroma"
   ]
  },
  {
   "cell_type": "code",
   "execution_count": 21,
   "id": "41e3733e",
   "metadata": {},
   "outputs": [],
   "source": [
    "### Create sample documents\n",
    "sample_docs = [\n",
    "'''\n",
    "Machine Learning (ML)\n",
    "\n",
    "Machine Learning is a subfield of Artificial Intelligence that focuses on building algorithms capable of learning patterns from data.\n",
    "Instead of being explicitly programmed to perform tasks, ML systems improve automatically through experience.\n",
    "Common ML techniques include supervised learning, where the system is trained with labeled data; unsupervised learning,\n",
    "which finds hidden structures in unlabeled datasets; and reinforcement learning,\n",
    "where agents learn optimal behavior by receiving rewards or penalties.\n",
    "''',\n",
    "'''\n",
    "Deep Learning (DL)\n",
    "\n",
    "Deep Learning is a specialized branch of Machine Learning that uses artificial neural networks with many layers to process complex data.\n",
    "It has gained massive popularity in tasks like image classification, speech recognition,\n",
    "and natural language understanding. Convolutional Neural Networks (CNNs) are widely used in computer vision,\n",
    "while Recurrent Neural Networks (RNNs) and Transformers are more common in sequential data tasks.\n",
    "Deep Learning often requires large datasets and high computational power but delivers state-of-the-art performance in many real-world applications.\n",
    "\n",
    "''',\n",
    "'''\n",
    "Natural Language Processing (NLP)\n",
    "\n",
    "Natural Language Processing is an area of AI that enables machines to understand, interpret,\n",
    "and generate human language. It involves tasks like sentiment analysis, machine translation, text summarization,\n",
    "and question answering. Traditional NLP relied heavily on statistical models and feature engineering,\n",
    "but modern approaches are dominated by deep learning models such as BERT, GPT, and other transformer-based architectures.\n",
    "NLP powers real-world systems like chatbots, voice assistants, and recommendation engines.\n",
    "''',\n",
    "'''\n",
    "Bridging ML, DL, and NLP\n",
    "\n",
    "While ML provides the fundamental building blocks for predictive modeling, Deep Learning takes these ideas further by\n",
    "automatically learning hierarchical representations from data. NLP, on the other hand,\n",
    "applies both ML and DL methods to language-related tasks. Together, these fields are revolutionizing\n",
    "industries from healthcare and finance to education and entertainment, enabling smarter and more interactive AI systems.\n",
    "'''\n",
    "]"
   ]
  },
  {
   "cell_type": "code",
   "execution_count": 22,
   "id": "ea5fca2d",
   "metadata": {},
   "outputs": [
    {
     "data": {
      "text/plain": [
       "['\\nMachine Learning (ML)\\n\\nMachine Learning is a subfield of Artificial Intelligence that focuses on building algorithms capable of learning patterns from data.\\nInstead of being explicitly programmed to perform tasks, ML systems improve automatically through experience.\\nCommon ML techniques include supervised learning, where the system is trained with labeled data; unsupervised learning,\\nwhich finds hidden structures in unlabeled datasets; and reinforcement learning,\\nwhere agents learn optimal behavior by receiving rewards or penalties.\\n',\n",
       " '\\nDeep Learning (DL)\\n\\nDeep Learning is a specialized branch of Machine Learning that uses artificial neural networks with many layers to process complex data.\\nIt has gained massive popularity in tasks like image classification, speech recognition,\\nand natural language understanding. Convolutional Neural Networks (CNNs) are widely used in computer vision,\\nwhile Recurrent Neural Networks (RNNs) and Transformers are more common in sequential data tasks.\\nDeep Learning often requires large datasets and high computational power but delivers state-of-the-art performance in many real-world applications.\\n\\n',\n",
       " '\\nNatural Language Processing (NLP)\\n\\nNatural Language Processing is an area of AI that enables machines to understand, interpret,\\nand generate human language. It involves tasks like sentiment analysis, machine translation, text summarization,\\nand question answering. Traditional NLP relied heavily on statistical models and feature engineering,\\nbut modern approaches are dominated by deep learning models such as BERT, GPT, and other transformer-based architectures.\\nNLP powers real-world systems like chatbots, voice assistants, and recommendation engines.\\n',\n",
       " '\\nBridging ML, DL, and NLP\\n\\nWhile ML provides the fundamental building blocks for predictive modeling, Deep Learning takes these ideas further by\\nautomatically learning hierarchical representations from data. NLP, on the other hand,\\napplies both ML and DL methods to language-related tasks. Together, these fields are revolutionizing\\nindustries from healthcare and finance to education and entertainment, enabling smarter and more interactive AI systems.\\n']"
      ]
     },
     "execution_count": 22,
     "metadata": {},
     "output_type": "execute_result"
    }
   ],
   "source": [
    "sample_docs"
   ]
  },
  {
   "cell_type": "code",
   "execution_count": 23,
   "id": "bc0a4492",
   "metadata": {},
   "outputs": [
    {
     "name": "stdout",
     "output_type": "stream",
     "text": [
      "Sample document created in /tmp/tmpjl6s185h\n"
     ]
    }
   ],
   "source": [
    "# save the sample documents to files\n",
    "import tempfile\n",
    "temp_dir = tempfile.mkdtemp()\n",
    "\n",
    "for i,doc in enumerate(sample_docs):\n",
    "    with open(f'{temp_dir}/doc_{i}.txt','w') as f:\n",
    "        f.write(doc)\n",
    "\n",
    "print(f'Sample document created in {temp_dir}')"
   ]
  },
  {
   "cell_type": "markdown",
   "id": "a5c74594",
   "metadata": {},
   "source": [
    "###### Document Loading"
   ]
  },
  {
   "cell_type": "code",
   "execution_count": 24,
   "id": "2b1ee925",
   "metadata": {},
   "outputs": [],
   "source": [
    "from langchain_community.document_loaders import DirectoryLoader\n",
    "\n",
    "loader = DirectoryLoader(\n",
    "    temp_dir,\n",
    "    glob='*.txt',\n",
    "    loader_cls=TextLoader,\n",
    "    loader_kwargs={'encoding':'utf-8'},\n",
    "\n",
    ") "
   ]
  },
  {
   "cell_type": "code",
   "execution_count": 25,
   "id": "5184f354",
   "metadata": {},
   "outputs": [
    {
     "name": "stdout",
     "output_type": "stream",
     "text": [
      "Loaded 4 document\n",
      "\n",
      "First document preview:-\n",
      "\n",
      "Bridging ML, DL, and NLP\n",
      "\n",
      "While ML provides the fundamental building blocks for predictive modeling, Deep Learning takes these ideas further by\n",
      "automatically learning hierarchical representations from data. NLP, on the other hand,\n",
      "applies both ML and DL methods to language-related tasks. Together, these fields are revolutionizing\n",
      "industries from healthcare and finance to education and entertainment, enabling smarter and more interactive AI systems.\n",
      "\n"
     ]
    }
   ],
   "source": [
    "documents = loader.load()\n",
    "\n",
    "print(f'Loaded {len(documents)} document')\n",
    "print(f'\\nFirst document preview:-')\n",
    "print(f'{documents[0].page_content}')"
   ]
  },
  {
   "cell_type": "markdown",
   "id": "5cf62363",
   "metadata": {},
   "source": [
    "###### Document Splitting"
   ]
  },
  {
   "cell_type": "code",
   "execution_count": 26,
   "id": "2a23a8b3",
   "metadata": {},
   "outputs": [],
   "source": [
    "text_splitter = RecursiveCharacterTextSplitter(\n",
    "    chunk_size = 500,\n",
    "    chunk_overlap = 50,\n",
    "    length_function = len,\n",
    "    separators=['\\n\\n','\\n','. ','',' ']\n",
    ")\n",
    "chunks = text_splitter.split_documents(documents)"
   ]
  },
  {
   "cell_type": "code",
   "execution_count": 27,
   "id": "02114428",
   "metadata": {},
   "outputs": [
    {
     "name": "stdout",
     "output_type": "stream",
     "text": [
      "Created 10 chunks from (10) documents\n",
      "\n",
      "Chunk example\n",
      "Content: Bridging ML, DL, and NLP\n",
      "\n",
      "While ML provides the fundamental building blocks for predictive modeling, Deep Learning takes these ideas further by\n",
      "automatically learning hierarchical representations from data. NLP, on the other hand,\n",
      "applies both ML and DL methods to language-related tasks. Together, these fields are revolutionizing\n",
      "industries from healthcare and finance to education and entertainment, enabling smarter and more interactive AI systems....\n",
      "Metadata: {'source': '/tmp/tmpjl6s185h/doc_3.txt'}\n"
     ]
    }
   ],
   "source": [
    "print(f'Created {len(chunks)} chunks from ({len(chunks)}) documents')\n",
    "print(f'\\nChunk example')\n",
    "print(f'Content: {chunks[0].page_content}...')\n",
    "print(f'Metadata: {chunks[0].metadata}')\n"
   ]
  },
  {
   "cell_type": "code",
   "execution_count": 28,
   "id": "c958efe8",
   "metadata": {},
   "outputs": [
    {
     "data": {
      "text/plain": [
       "[Document(metadata={'source': '/tmp/tmpjl6s185h/doc_3.txt'}, page_content='Bridging ML, DL, and NLP\\n\\nWhile ML provides the fundamental building blocks for predictive modeling, Deep Learning takes these ideas further by\\nautomatically learning hierarchical representations from data. NLP, on the other hand,\\napplies both ML and DL methods to language-related tasks. Together, these fields are revolutionizing\\nindustries from healthcare and finance to education and entertainment, enabling smarter and more interactive AI systems.'),\n",
       " Document(metadata={'source': '/tmp/tmpjl6s185h/doc_2.txt'}, page_content='Natural Language Processing (NLP)'),\n",
       " Document(metadata={'source': '/tmp/tmpjl6s185h/doc_2.txt'}, page_content='Natural Language Processing is an area of AI that enables machines to understand, interpret,\\nand generate human language. It involves tasks like sentiment analysis, machine translation, text summarization,\\nand question answering. Traditional NLP relied heavily on statistical models and feature engineering,\\nbut modern approaches are dominated by deep learning models such as BERT, GPT, and other transformer-based architectures.'),\n",
       " Document(metadata={'source': '/tmp/tmpjl6s185h/doc_2.txt'}, page_content='NLP powers real-world systems like chatbots, voice assistants, and recommendation engines.'),\n",
       " Document(metadata={'source': '/tmp/tmpjl6s185h/doc_1.txt'}, page_content='Deep Learning (DL)'),\n",
       " Document(metadata={'source': '/tmp/tmpjl6s185h/doc_1.txt'}, page_content='Deep Learning is a specialized branch of Machine Learning that uses artificial neural networks with many layers to process complex data.\\nIt has gained massive popularity in tasks like image classification, speech recognition,\\nand natural language understanding. Convolutional Neural Networks (CNNs) are widely used in computer vision,\\nwhile Recurrent Neural Networks (RNNs) and Transformers are more common in sequential data tasks.'),\n",
       " Document(metadata={'source': '/tmp/tmpjl6s185h/doc_1.txt'}, page_content='Deep Learning often requires large datasets and high computational power but delivers state-of-the-art performance in many real-world applications.'),\n",
       " Document(metadata={'source': '/tmp/tmpjl6s185h/doc_0.txt'}, page_content='Machine Learning (ML)'),\n",
       " Document(metadata={'source': '/tmp/tmpjl6s185h/doc_0.txt'}, page_content='Machine Learning is a subfield of Artificial Intelligence that focuses on building algorithms capable of learning patterns from data.\\nInstead of being explicitly programmed to perform tasks, ML systems improve automatically through experience.\\nCommon ML techniques include supervised learning, where the system is trained with labeled data; unsupervised learning,\\nwhich finds hidden structures in unlabeled datasets; and reinforcement learning,'),\n",
       " Document(metadata={'source': '/tmp/tmpjl6s185h/doc_0.txt'}, page_content='where agents learn optimal behavior by receiving rewards or penalties.')]"
      ]
     },
     "execution_count": 28,
     "metadata": {},
     "output_type": "execute_result"
    }
   ],
   "source": [
    "chunks"
   ]
  },
  {
   "cell_type": "markdown",
   "id": "3ba10fb6",
   "metadata": {},
   "source": [
    "###### Embedding Models"
   ]
  },
  {
   "cell_type": "code",
   "execution_count": 29,
   "id": "f37a91a2",
   "metadata": {},
   "outputs": [],
   "source": [
    "os.environ['OPENAI_API_KEY'] = os.getenv('OPENAI_API_KEY')"
   ]
  },
  {
   "cell_type": "code",
   "execution_count": null,
   "id": "0333b128",
   "metadata": {},
   "outputs": [],
   "source": [
    "sample_text = 'Machine Learning is fascinating'\n",
    "embedding_model = OpenAIEmbeddings(\n",
    "    model=''\n",
    ")"
   ]
  },
  {
   "cell_type": "markdown",
   "id": "cc7b6ec1",
   "metadata": {},
   "source": [
    "###### Vector-store "
   ]
  },
  {
   "cell_type": "code",
   "execution_count": 34,
   "id": "8bee3487",
   "metadata": {},
   "outputs": [
    {
     "name": "stdout",
     "output_type": "stream",
     "text": [
      "Vector store created with 10 vectors\n",
      "Persisted to: ../chroma_db\n"
     ]
    }
   ],
   "source": [
    "# create a Chromadb vector store\n",
    "persistent_directory = \"../chroma_db\"\n",
    "\n",
    "## Intialize Chromadb with OpenAI embeddings\n",
    "vector_store = Chroma.from_documents(\n",
    "    documents=chunks,\n",
    "    embedding=OpenAIEmbeddings(),\n",
    "    persist_directory=persistent_directory,\n",
    "    collection_name = 'rag_collection'\n",
    ")\n",
    "\n",
    "print(f'Vector store created with {vector_store._collection.count()} vectors')\n",
    "print(f'Persisted to: {persistent_directory}')"
   ]
  },
  {
   "cell_type": "markdown",
   "id": "85a80b0a",
   "metadata": {},
   "source": [
    "###### Test Similarity search"
   ]
  },
  {
   "cell_type": "code",
   "execution_count": null,
   "id": "f6a1280d",
   "metadata": {},
   "outputs": [
    {
     "data": {
      "text/plain": [
       "[Document(metadata={'source': '/tmp/tmpjl6s185h/doc_2.txt'}, page_content='Natural Language Processing (NLP)'),\n",
       " Document(metadata={'source': '/tmp/tmpjl6s185h/doc_2.txt'}, page_content='NLP powers real-world systems like chatbots, voice assistants, and recommendation engines.'),\n",
       " Document(metadata={'source': '/tmp/tmpjl6s185h/doc_2.txt'}, page_content='Natural Language Processing is an area of AI that enables machines to understand, interpret,\\nand generate human language. It involves tasks like sentiment analysis, machine translation, text summarization,\\nand question answering. Traditional NLP relied heavily on statistical models and feature engineering,\\nbut modern approaches are dominated by deep learning models such as BERT, GPT, and other transformer-based architectures.')]"
      ]
     },
     "execution_count": 38,
     "metadata": {},
     "output_type": "execute_result"
    }
   ],
   "source": [
    "query = \"what are the tasks of NLP?\"\n",
    "similar_docs = vector_store.similarity_search(query,k=3)\n",
    "similar_docs"
   ]
  },
  {
   "cell_type": "code",
   "execution_count": 43,
   "id": "f4e0dcbd",
   "metadata": {},
   "outputs": [
    {
     "data": {
      "text/plain": [
       "[Document(metadata={'source': '/tmp/tmpjl6s185h/doc_1.txt'}, page_content='Deep Learning (DL)'),\n",
       " Document(metadata={'source': '/tmp/tmpjl6s185h/doc_1.txt'}, page_content='Deep Learning is a specialized branch of Machine Learning that uses artificial neural networks with many layers to process complex data.\\nIt has gained massive popularity in tasks like image classification, speech recognition,\\nand natural language understanding. Convolutional Neural Networks (CNNs) are widely used in computer vision,\\nwhile Recurrent Neural Networks (RNNs) and Transformers are more common in sequential data tasks.'),\n",
       " Document(metadata={'source': '/tmp/tmpjl6s185h/doc_1.txt'}, page_content='Deep Learning often requires large datasets and high computational power but delivers state-of-the-art performance in many real-world applications.')]"
      ]
     },
     "execution_count": 43,
     "metadata": {},
     "output_type": "execute_result"
    }
   ],
   "source": [
    "query = \"What is the Deep Learning?\"\n",
    "similar_docs = vector_store.similarity_search(query,k=3)\n",
    "similar_docs"
   ]
  },
  {
   "cell_type": "code",
   "execution_count": 37,
   "id": "2aa7c11e",
   "metadata": {},
   "outputs": [
    {
     "data": {
      "text/plain": [
       "[Document(metadata={'source': '/tmp/tmpjl6s185h/doc_2.txt'}, page_content='Natural Language Processing (NLP)'),\n",
       " Document(metadata={'source': '/tmp/tmpjl6s185h/doc_2.txt'}, page_content='Natural Language Processing is an area of AI that enables machines to understand, interpret,\\nand generate human language. It involves tasks like sentiment analysis, machine translation, text summarization,\\nand question answering. Traditional NLP relied heavily on statistical models and feature engineering,\\nbut modern approaches are dominated by deep learning models such as BERT, GPT, and other transformer-based architectures.'),\n",
       " Document(metadata={'source': '/tmp/tmpjl6s185h/doc_2.txt'}, page_content='NLP powers real-world systems like chatbots, voice assistants, and recommendation engines.')]"
      ]
     },
     "execution_count": 37,
     "metadata": {},
     "output_type": "execute_result"
    }
   ],
   "source": [
    "query = \"What is NLP?\"\n",
    "similar_docs = vector_store.similarity_search(query,k=3)\n",
    "similar_docs"
   ]
  },
  {
   "cell_type": "code",
   "execution_count": 44,
   "id": "c0f6c7f8",
   "metadata": {},
   "outputs": [
    {
     "name": "stdout",
     "output_type": "stream",
     "text": [
      "Query: What is the Deep Learning?\n",
      "3 similar chunks\n",
      "---- Chunk 1 ----\n",
      "Deep Learning (DL)...\n",
      "Source: /tmp/tmpjl6s185h/doc_1.txt\n",
      "---- Chunk 2 ----\n",
      "Deep Learning is a specialized branch of Machine Learning that uses artificial neural networks with many layers to process complex data.\n",
      "It has gained massive popularity in tasks like image classifica...\n",
      "Source: /tmp/tmpjl6s185h/doc_1.txt\n",
      "---- Chunk 3 ----\n",
      "Deep Learning often requires large datasets and high computational power but delivers state-of-the-art performance in many real-world applications....\n",
      "Source: /tmp/tmpjl6s185h/doc_1.txt\n"
     ]
    }
   ],
   "source": [
    "print(f'Query: {query}')\n",
    "print(f'{len(similar_docs)} similar chunks')\n",
    "for i,doc in enumerate(similar_docs):\n",
    "    print(f'---- Chunk {i+1} ----')\n",
    "    print(doc.page_content[:200] + '...')\n",
    "    print(f'Source: {doc.metadata.get('source','unknown')}')"
   ]
  },
  {
   "cell_type": "code",
   "execution_count": 46,
   "id": "a2577e68",
   "metadata": {},
   "outputs": [
    {
     "name": "stdout",
     "output_type": "stream",
     "text": [
      "[(Document(metadata={'source': '/tmp/tmpjl6s185h/doc_1.txt'}, page_content='Deep Learning (DL)'), 0.1618431955575943), (Document(metadata={'source': '/tmp/tmpjl6s185h/doc_1.txt'}, page_content='Deep Learning is a specialized branch of Machine Learning that uses artificial neural networks with many layers to process complex data.\\nIt has gained massive popularity in tasks like image classification, speech recognition,\\nand natural language understanding. Convolutional Neural Networks (CNNs) are widely used in computer vision,\\nwhile Recurrent Neural Networks (RNNs) and Transformers are more common in sequential data tasks.'), 0.20138491690158844), (Document(metadata={'source': '/tmp/tmpjl6s185h/doc_1.txt'}, page_content='Deep Learning often requires large datasets and high computational power but delivers state-of-the-art performance in many real-world applications.'), 0.2461816966533661)]\n"
     ]
    }
   ],
   "source": [
    "scores = vector_store.similarity_search_with_score(query,k=3)\n",
    "print(scores)"
   ]
  },
  {
   "cell_type": "markdown",
   "id": "09929c4b",
   "metadata": {},
   "source": [
    "##### Initialize LLM, RAG Chain,Prompt Template,Query the RAG system"
   ]
  },
  {
   "cell_type": "code",
   "execution_count": 48,
   "id": "f66ed542",
   "metadata": {},
   "outputs": [],
   "source": [
    "from langchain_openai import ChatOpenAI\n",
    "\n",
    "llm = ChatOpenAI(\n",
    "    model_name = 'gpt-4o-mini',\n",
    "\n",
    ")"
   ]
  },
  {
   "cell_type": "code",
   "execution_count": 50,
   "id": "b442d6a8",
   "metadata": {},
   "outputs": [
    {
     "data": {
      "text/plain": [
       "AIMessage(content='LLM stands for \"Large Language Model.\" It refers to a type of artificial intelligence model that is trained on vast amounts of text data to understand and generate human-like language. These models use deep learning techniques, particularly neural networks, to learn patterns, grammar, facts, and some level of reasoning from the text.\\n\\nKey characteristics of LLMs include:\\n\\n1. **Scale**: LLMs are characterized by their large number of parameters, often in the billions or trillions, which allows them to capture a wide range of linguistic nuances and knowledge.\\n\\n2. **Versatility**: They can perform numerous language-related tasks, including but not limited to text generation, translation, summarization, question answering, and conversational agents.\\n\\n3. **Pre-training and Fine-tuning**: They are typically pre-trained on a broad dataset in an unsupervised manner and can be fine-tuned on specific tasks with smaller, supervised datasets.\\n\\n4. **Applications**: LLMs have a wide range of applications across fields such as customer service, content creation, education, and more.\\n\\nExamples of well-known LLMs include OpenAI\\'s GPT (like the model you\\'re interacting with), Google\\'s BERT, and Meta\\'s LLaMA.', additional_kwargs={'refusal': None}, response_metadata={'token_usage': {'completion_tokens': 248, 'prompt_tokens': 12, 'total_tokens': 260, 'completion_tokens_details': {'accepted_prediction_tokens': 0, 'audio_tokens': 0, 'reasoning_tokens': 0, 'rejected_prediction_tokens': 0}, 'prompt_tokens_details': {'audio_tokens': 0, 'cached_tokens': 0}}, 'model_name': 'gpt-4o-mini-2024-07-18', 'system_fingerprint': 'fp_560af6e559', 'id': 'chatcmpl-C9W2zymU5324l3ZpN9NgqHcLyNmNv', 'service_tier': 'default', 'finish_reason': 'stop', 'logprobs': None}, id='run--1c39044f-bc70-478b-a3ca-350ea67b742e-0', usage_metadata={'input_tokens': 12, 'output_tokens': 248, 'total_tokens': 260, 'input_token_details': {'audio': 0, 'cache_read': 0}, 'output_token_details': {'audio': 0, 'reasoning': 0}})"
      ]
     },
     "execution_count": 50,
     "metadata": {},
     "output_type": "execute_result"
    }
   ],
   "source": [
    "test_response = llm.invoke('What is LLM?')\n",
    "test_response"
   ]
  },
  {
   "cell_type": "code",
   "execution_count": 51,
   "id": "8d63254b",
   "metadata": {},
   "outputs": [
    {
     "data": {
      "text/plain": [
       "ChatOpenAI(client=<openai.resources.chat.completions.completions.Completions object at 0x7f87eea14a50>, async_client=<openai.resources.chat.completions.completions.AsyncCompletions object at 0x7f87eea14b90>, root_client=<openai.OpenAI object at 0x7f87eea90fc0>, root_async_client=<openai.AsyncOpenAI object at 0x7f87eea90e90>, model_name='gpt-4o-mini', model_kwargs={}, openai_api_key=SecretStr('**********'))"
      ]
     },
     "execution_count": 51,
     "metadata": {},
     "output_type": "execute_result"
    }
   ],
   "source": [
    "from langchain.chat_models.base import init_chat_model\n",
    "\n",
    "llm = init_chat_model('openai:gpt-4o-mini')\n",
    "llm"
   ]
  },
  {
   "cell_type": "code",
   "execution_count": 52,
   "id": "45378302",
   "metadata": {},
   "outputs": [
    {
     "data": {
      "text/plain": [
       "AIMessage(content='Artificial Intelligence (AI) refers to the simulation of human intelligence in machines that are designed to think and act like humans. This encompasses a variety of capabilities, including:\\n\\n1. **Machine Learning**: Systems that can learn from data, identify patterns, and make decisions with minimal human intervention.\\n  \\n2. **Natural Language Processing (NLP)**: The ability of machines to understand and interpret human language, enabling applications such as voice assistants and chatbots.\\n\\n3. **Computer Vision**: The capability of machines to interpret and understand visual information from the world, allowing for tasks like image recognition and autonomous driving.\\n\\n4. **Robotics**: The creation of machines that can perform tasks traditionally done by humans, often incorporating aspects of AI for navigation and decision-making.\\n\\n5. **Expert Systems**: AI systems that mimic the decision-making abilities of a human expert in specific fields.\\n\\nAI can be categorized into two types:\\n\\n- **Narrow AI**: Designed for specific tasks, such as recommendation systems or virtual personal assistants (e.g., Siri or Alexa).\\n  \\n- **General AI**: Hypothetical AI that possesses the ability to understand, learn, and apply intelligence across a wide variety of tasks, similar to a human.\\n\\nAI is a rapidly evolving field with applications in various sectors, including healthcare, finance, transportation, and entertainment, contributing to advancements and efficiencies across many industries.', additional_kwargs={'refusal': None}, response_metadata={'token_usage': {'completion_tokens': 278, 'prompt_tokens': 11, 'total_tokens': 289, 'completion_tokens_details': {'accepted_prediction_tokens': 0, 'audio_tokens': 0, 'reasoning_tokens': 0, 'rejected_prediction_tokens': 0}, 'prompt_tokens_details': {'audio_tokens': 0, 'cached_tokens': 0}}, 'model_name': 'gpt-4o-mini-2024-07-18', 'system_fingerprint': 'fp_560af6e559', 'id': 'chatcmpl-C9W6VkDkFUVOl7fIXUxQafRiXBEkT', 'service_tier': 'default', 'finish_reason': 'stop', 'logprobs': None}, id='run--0e881273-9d3c-421d-ab0e-78dc4129866e-0', usage_metadata={'input_tokens': 11, 'output_tokens': 278, 'total_tokens': 289, 'input_token_details': {'audio': 0, 'cache_read': 0}, 'output_token_details': {'audio': 0, 'reasoning': 0}})"
      ]
     },
     "execution_count": 52,
     "metadata": {},
     "output_type": "execute_result"
    }
   ],
   "source": [
    "llm.invoke('What is AI?')"
   ]
  },
  {
   "cell_type": "markdown",
   "id": "a6eaec31",
   "metadata": {},
   "source": [
    "##### Modern RAG Chain"
   ]
  },
  {
   "cell_type": "code",
   "execution_count": 53,
   "id": "611daf67",
   "metadata": {},
   "outputs": [],
   "source": [
    "from langchain.chains import create_retrieval_chain\n",
    "from langchain_core.prompts import ChatPromptTemplate\n",
    "from langchain.chains.combine_documents import create_stuff_documents_chain"
   ]
  },
  {
   "cell_type": "code",
   "execution_count": 54,
   "id": "95a97e3f",
   "metadata": {},
   "outputs": [
    {
     "data": {
      "text/plain": [
       "VectorStoreRetriever(tags=['Chroma', 'OpenAIEmbeddings'], vectorstore=<langchain_community.vectorstores.chroma.Chroma object at 0x7f8836447230>, search_kwargs={'k': 3})"
      ]
     },
     "execution_count": 54,
     "metadata": {},
     "output_type": "execute_result"
    }
   ],
   "source": [
    "### convert vector store to retriever\n",
    "retriever = vector_store.as_retriever(\n",
    "    search_kwargs={'k':3}\n",
    "\n",
    ")\n",
    "retriever"
   ]
  },
  {
   "cell_type": "code",
   "execution_count": 57,
   "id": "48a69534",
   "metadata": {},
   "outputs": [],
   "source": [
    "## create a prompt template\n",
    "system_prompt = \"\"\"\n",
    "You are an assistant for question-answering tasks.Use the following pieces of retrieved context to answer the question.\n",
    "if you dont know the answer,just say that you dont know.\n",
    "use three sentences maximum and keep the answer concise.\n",
    "\n",
    "Context: {context}\"\"\"\n",
    "\n",
    "prompt = ChatPromptTemplate.from_messages([\n",
    "    ('system',system_prompt),\n",
    "    ('human','{input}')\n",
    "])"
   ]
  },
  {
   "cell_type": "code",
   "execution_count": 58,
   "id": "873f1fa0",
   "metadata": {},
   "outputs": [
    {
     "data": {
      "text/plain": [
       "ChatPromptTemplate(input_variables=['context', 'input'], input_types={}, partial_variables={}, messages=[SystemMessagePromptTemplate(prompt=PromptTemplate(input_variables=['context'], input_types={}, partial_variables={}, template='\\nYou are an assistant for question-answering tasks.Use the following pieces of retrieved context to answer the question.\\nif you dont know the answer,just say that you dont know.\\nuse three sentences maximum and keep the answer concise.\\n\\nContext: {context}'), additional_kwargs={}), HumanMessagePromptTemplate(prompt=PromptTemplate(input_variables=['input'], input_types={}, partial_variables={}, template='{input}'), additional_kwargs={})])"
      ]
     },
     "execution_count": 58,
     "metadata": {},
     "output_type": "execute_result"
    }
   ],
   "source": [
    "prompt"
   ]
  },
  {
   "cell_type": "code",
   "execution_count": 59,
   "id": "40a76ea7",
   "metadata": {},
   "outputs": [
    {
     "data": {
      "text/plain": [
       "RunnableBinding(bound=RunnableBinding(bound=RunnableAssign(mapper={\n",
       "  context: RunnableLambda(format_docs)\n",
       "}), kwargs={}, config={'run_name': 'format_inputs'}, config_factories=[])\n",
       "| ChatPromptTemplate(input_variables=['context', 'input'], input_types={}, partial_variables={}, messages=[SystemMessagePromptTemplate(prompt=PromptTemplate(input_variables=['context'], input_types={}, partial_variables={}, template='\\nYou are an assistant for question-answering tasks.Use the following pieces of retrieved context to answer the question.\\nif you dont know the answer,just say that you dont know.\\nuse three sentences maximum and keep the answer concise.\\n\\nContext: {context}'), additional_kwargs={}), HumanMessagePromptTemplate(prompt=PromptTemplate(input_variables=['input'], input_types={}, partial_variables={}, template='{input}'), additional_kwargs={})])\n",
       "| ChatOpenAI(client=<openai.resources.chat.completions.completions.Completions object at 0x7f87eea14a50>, async_client=<openai.resources.chat.completions.completions.AsyncCompletions object at 0x7f87eea14b90>, root_client=<openai.OpenAI object at 0x7f87eea90fc0>, root_async_client=<openai.AsyncOpenAI object at 0x7f87eea90e90>, model_name='gpt-4o-mini', model_kwargs={}, openai_api_key=SecretStr('**********'))\n",
       "| StrOutputParser(), kwargs={}, config={'run_name': 'stuff_documents_chain'}, config_factories=[])"
      ]
     },
     "execution_count": 59,
     "metadata": {},
     "output_type": "execute_result"
    }
   ],
   "source": [
    "### Create a document chain\n",
    "document_chain = create_stuff_documents_chain(llm,prompt)\n",
    "document_chain"
   ]
  },
  {
   "cell_type": "markdown",
   "id": "fdd2209a",
   "metadata": {},
   "source": [
    "This chain:\n",
    "- takes retrieved documents\n",
    "- 'Stuffs' them into the prompts {context} placeholder\n",
    "- sends the complete prompt to the LLM\n",
    "- Returns the LLM's response"
   ]
  },
  {
   "cell_type": "code",
   "execution_count": 60,
   "id": "88b6d1bc",
   "metadata": {},
   "outputs": [
    {
     "data": {
      "text/plain": [
       "RunnableBinding(bound=RunnableAssign(mapper={\n",
       "  context: RunnableBinding(bound=RunnableLambda(lambda x: x['input'])\n",
       "           | VectorStoreRetriever(tags=['Chroma', 'OpenAIEmbeddings'], vectorstore=<langchain_community.vectorstores.chroma.Chroma object at 0x7f8836447230>, search_kwargs={'k': 3}), kwargs={}, config={'run_name': 'retrieve_documents'}, config_factories=[])\n",
       "})\n",
       "| RunnableAssign(mapper={\n",
       "    answer: RunnableBinding(bound=RunnableBinding(bound=RunnableAssign(mapper={\n",
       "              context: RunnableLambda(format_docs)\n",
       "            }), kwargs={}, config={'run_name': 'format_inputs'}, config_factories=[])\n",
       "            | ChatPromptTemplate(input_variables=['context', 'input'], input_types={}, partial_variables={}, messages=[SystemMessagePromptTemplate(prompt=PromptTemplate(input_variables=['context'], input_types={}, partial_variables={}, template='\\nYou are an assistant for question-answering tasks.Use the following pieces of retrieved context to answer the question.\\nif you dont know the answer,just say that you dont know.\\nuse three sentences maximum and keep the answer concise.\\n\\nContext: {context}'), additional_kwargs={}), HumanMessagePromptTemplate(prompt=PromptTemplate(input_variables=['input'], input_types={}, partial_variables={}, template='{input}'), additional_kwargs={})])\n",
       "            | ChatOpenAI(client=<openai.resources.chat.completions.completions.Completions object at 0x7f87eea14a50>, async_client=<openai.resources.chat.completions.completions.AsyncCompletions object at 0x7f87eea14b90>, root_client=<openai.OpenAI object at 0x7f87eea90fc0>, root_async_client=<openai.AsyncOpenAI object at 0x7f87eea90e90>, model_name='gpt-4o-mini', model_kwargs={}, openai_api_key=SecretStr('**********'))\n",
       "            | StrOutputParser(), kwargs={}, config={'run_name': 'stuff_documents_chain'}, config_factories=[])\n",
       "  }), kwargs={}, config={'run_name': 'retrieval_chain'}, config_factories=[])"
      ]
     },
     "execution_count": 60,
     "metadata": {},
     "output_type": "execute_result"
    }
   ],
   "source": [
    "### Create the final RAG Chain\n",
    "rag_chain = create_retrieval_chain(retriever,document_chain)\n",
    "rag_chain"
   ]
  },
  {
   "cell_type": "code",
   "execution_count": 62,
   "id": "9d04f8a1",
   "metadata": {},
   "outputs": [],
   "source": [
    "response=rag_chain.invoke({'input':'Hey,What are the tasks of NLP?'})\n"
   ]
  },
  {
   "cell_type": "code",
   "execution_count": 63,
   "id": "6489b14f",
   "metadata": {},
   "outputs": [
    {
     "data": {
      "text/plain": [
       "'NLP involves tasks such as sentiment analysis, machine translation, text summarization, and question answering. These tasks help machines understand, interpret, and generate human language.'"
      ]
     },
     "execution_count": 63,
     "metadata": {},
     "output_type": "execute_result"
    }
   ],
   "source": [
    "response['answer']"
   ]
  },
  {
   "cell_type": "code",
   "execution_count": 64,
   "id": "3cc78605",
   "metadata": {},
   "outputs": [
    {
     "name": "stdout",
     "output_type": "stream",
     "text": [
      "Questions: What is the Machine Learning?\n",
      "------------------------------\n",
      "Answer: Machine Learning is a subfield of Artificial Intelligence that focuses on building algorithms that learn patterns from data. It enables systems to improve automatically through experience instead of being explicitly programmed for tasks. Common techniques include supervised, unsupervised, and reinforcement learning.\n",
      "\n",
      "Retrieved Context\n",
      "\n",
      "--- Source 1 ---\n",
      "Machine Learning (ML)---\n",
      "\n",
      "--- Source 2 ---\n",
      "Machine Learning is a subfield of Artificial Intelligence that focuses on building algorithms capable of learning patterns from data.\n",
      "Instead of being explicitly programmed to perform tasks, ML system---\n",
      "\n",
      "--- Source 3 ---\n",
      "Deep Learning (DL)---\n",
      "\n",
      "================================================================================\n",
      "\n",
      "Questions: What is the use of CNNs\n",
      "------------------------------\n",
      "Answer: Convolutional Neural Networks (CNNs) are primarily used in computer vision tasks such as image classification, object detection, and image segmentation. They excel at processing and analyzing visual data due to their ability to detect patterns and features at various levels of abstraction. CNNs have driven significant advancements in fields like autonomous vehicles, facial recognition, and medical image analysis.\n",
      "\n",
      "Retrieved Context\n",
      "\n",
      "--- Source 1 ---\n",
      "Deep Learning is a specialized branch of Machine Learning that uses artificial neural networks with many layers to process complex data.\n",
      "It has gained massive popularity in tasks like image classifica---\n",
      "\n",
      "--- Source 2 ---\n",
      "Deep Learning often requires large datasets and high computational power but delivers state-of-the-art performance in many real-world applications.---\n",
      "\n",
      "--- Source 3 ---\n",
      "Deep Learning (DL)---\n",
      "\n",
      "================================================================================\n",
      "\n",
      "Questions: Full form of NLP\n",
      "------------------------------\n",
      "Answer: The full form of NLP is Natural Language Processing.\n",
      "\n",
      "Retrieved Context\n",
      "\n",
      "--- Source 1 ---\n",
      "Natural Language Processing (NLP)---\n",
      "\n",
      "--- Source 2 ---\n",
      "Natural Language Processing is an area of AI that enables machines to understand, interpret,\n",
      "and generate human language. It involves tasks like sentiment analysis, machine translation, text summariza---\n",
      "\n",
      "--- Source 3 ---\n",
      "NLP powers real-world systems like chatbots, voice assistants, and recommendation engines.---\n",
      "\n",
      "================================================================================\n",
      "\n"
     ]
    }
   ],
   "source": [
    "# Function to query the modern RAG system\n",
    "def query_rag_modern(question):\n",
    "    print(f'Questions: {question}')\n",
    "    print(\"-\"*30)\n",
    "\n",
    "    result = rag_chain.invoke({'input':question})\n",
    "\n",
    "    print(f'Answer: {result['answer']}')\n",
    "    print(f'\\nRetrieved Context')\n",
    "    for i,doc in enumerate(result['context']):\n",
    "        print(f'\\n--- Source {i+1} ---')\n",
    "        print(doc.page_content[:200] + '---')\n",
    "    return result\n",
    "\n",
    "test_question = [\n",
    "    'What is the Machine Learning?',\n",
    "    'What is the use of CNNs',\n",
    "    'Full form of NLP'\n",
    "]\n",
    "\n",
    "for question in test_question:\n",
    "    result = query_rag_modern(question)\n",
    "    print(f'\\n'+ '='*80 + '\\n')"
   ]
  },
  {
   "cell_type": "markdown",
   "id": "2177e385",
   "metadata": {},
   "source": [
    "#### Create RAG Chain Alternative - Using LCEL (LangChain Expression Language)"
   ]
  },
  {
   "cell_type": "code",
   "execution_count": 65,
   "id": "03d6c68e",
   "metadata": {},
   "outputs": [],
   "source": [
    "from langchain_core.output_parsers import StrOutputParser\n",
    "from langchain_core.runnables import RunnablePassthrough,RunnableParallel"
   ]
  },
  {
   "cell_type": "code",
   "execution_count": 68,
   "id": "f4442d03",
   "metadata": {},
   "outputs": [],
   "source": [
    "from langchain_core.prompts import ChatPromptTemplate\n",
    "\n",
    "custom_prompt = ChatPromptTemplate.from_messages([\n",
    "    (\"system\", \"\"\"You are a helpful, knowledgeable assistant.\n",
    "- Always use the provided context to answer questions. \n",
    "- If the context does not have the answer, say \"I don't know.\"\n",
    "- Be clear and concise in explanations.\n",
    "- Do not make assumptions beyond the given context.\n",
    "- Stay on-topic and relevant to the user’s query.\"\"\"),\n",
    "\n",
    "    (\"user\", \"\"\"Context:\n",
    "{context}\n",
    "\n",
    "Question: {question}\n",
    "\n",
    "Answer:\"\"\")\n",
    "])\n"
   ]
  },
  {
   "cell_type": "code",
   "execution_count": 69,
   "id": "6faeeabe",
   "metadata": {},
   "outputs": [
    {
     "data": {
      "text/plain": [
       "VectorStoreRetriever(tags=['Chroma', 'OpenAIEmbeddings'], vectorstore=<langchain_community.vectorstores.chroma.Chroma object at 0x7f8836447230>, search_kwargs={'k': 3})"
      ]
     },
     "execution_count": 69,
     "metadata": {},
     "output_type": "execute_result"
    }
   ],
   "source": [
    "retriever"
   ]
  },
  {
   "cell_type": "code",
   "execution_count": 70,
   "id": "af57d546",
   "metadata": {},
   "outputs": [],
   "source": [
    "### Formate the output documents for the prompt\n",
    "def format_docs(docs):\n",
    "    return \"\\n\\n\".join(doc.page_content for doc in docs)"
   ]
  },
  {
   "cell_type": "code",
   "execution_count": null,
   "id": "6a2898be",
   "metadata": {},
   "outputs": [],
   "source": [
    "## Build the chain using LCEL\n",
    "\n",
    "rag_chain_lcel = (\n",
    "    {\n",
    "    'context':retriever | format_docs,\n",
    "     \"question\":RunnablePassthrough()\n",
    "     }\n",
    "    | custom_prompt\n",
    "    | llm \n",
    "    | StrOutputParser()\n",
    ")"
   ]
  },
  {
   "cell_type": "code",
   "execution_count": 72,
   "id": "97887e6d",
   "metadata": {},
   "outputs": [
    {
     "data": {
      "text/plain": [
       "{\n",
       "  context: VectorStoreRetriever(tags=['Chroma', 'OpenAIEmbeddings'], vectorstore=<langchain_community.vectorstores.chroma.Chroma object at 0x7f8836447230>, search_kwargs={'k': 3})\n",
       "           | RunnableLambda(format_docs),\n",
       "  question: RunnablePassthrough()\n",
       "}\n",
       "| ChatPromptTemplate(input_variables=['context', 'question'], input_types={}, partial_variables={}, messages=[SystemMessagePromptTemplate(prompt=PromptTemplate(input_variables=[], input_types={}, partial_variables={}, template='You are a helpful, knowledgeable assistant.\\n- Always use the provided context to answer questions. \\n- If the context does not have the answer, say \"I don\\'t know.\"\\n- Be clear and concise in explanations.\\n- Do not make assumptions beyond the given context.\\n- Stay on-topic and relevant to the user’s query.'), additional_kwargs={}), HumanMessagePromptTemplate(prompt=PromptTemplate(input_variables=['context', 'question'], input_types={}, partial_variables={}, template='Context:\\n{context}\\n\\nQuestion: {question}\\n\\nAnswer:'), additional_kwargs={})])\n",
       "| ChatOpenAI(client=<openai.resources.chat.completions.completions.Completions object at 0x7f87eea14a50>, async_client=<openai.resources.chat.completions.completions.AsyncCompletions object at 0x7f87eea14b90>, root_client=<openai.OpenAI object at 0x7f87eea90fc0>, root_async_client=<openai.AsyncOpenAI object at 0x7f87eea90e90>, model_name='gpt-4o-mini', model_kwargs={}, openai_api_key=SecretStr('**********'))\n",
       "| StrOutputParser()"
      ]
     },
     "execution_count": 72,
     "metadata": {},
     "output_type": "execute_result"
    }
   ],
   "source": [
    "rag_chain_lcel"
   ]
  },
  {
   "cell_type": "code",
   "execution_count": 73,
   "id": "179d2078",
   "metadata": {},
   "outputs": [
    {
     "data": {
      "text/plain": [
       "'Machine Learning is a subfield of Artificial Intelligence that focuses on building algorithms capable of learning patterns from data. Instead of being explicitly programmed to perform tasks, ML systems improve automatically through experience. Common techniques include supervised learning, unsupervised learning, and reinforcement learning.'"
      ]
     },
     "execution_count": 73,
     "metadata": {},
     "output_type": "execute_result"
    }
   ],
   "source": [
    "response=rag_chain_lcel.invoke('What is the Machine Learning?')\n",
    "response"
   ]
  },
  {
   "cell_type": "code",
   "execution_count": 74,
   "id": "2a91b4ef",
   "metadata": {},
   "outputs": [
    {
     "name": "stderr",
     "output_type": "stream",
     "text": [
      "/tmp/ipykernel_39736/4172794280.py:1: LangChainDeprecationWarning: The method `BaseRetriever.get_relevant_documents` was deprecated in langchain-core 0.1.46 and will be removed in 1.0. Use :meth:`~invoke` instead.\n",
      "  retriever.get_relevant_documents('What is the Machine Learning?')\n"
     ]
    },
    {
     "data": {
      "text/plain": [
       "[Document(metadata={'source': '/tmp/tmpjl6s185h/doc_0.txt'}, page_content='Machine Learning (ML)'),\n",
       " Document(metadata={'source': '/tmp/tmpjl6s185h/doc_0.txt'}, page_content='Machine Learning is a subfield of Artificial Intelligence that focuses on building algorithms capable of learning patterns from data.\\nInstead of being explicitly programmed to perform tasks, ML systems improve automatically through experience.\\nCommon ML techniques include supervised learning, where the system is trained with labeled data; unsupervised learning,\\nwhich finds hidden structures in unlabeled datasets; and reinforcement learning,'),\n",
       " Document(metadata={'source': '/tmp/tmpjl6s185h/doc_1.txt'}, page_content='Deep Learning (DL)')]"
      ]
     },
     "execution_count": 74,
     "metadata": {},
     "output_type": "execute_result"
    }
   ],
   "source": [
    "retriever.get_relevant_documents('What is the Machine Learning?')"
   ]
  },
  {
   "cell_type": "code",
   "execution_count": 75,
   "id": "f87b6bb4",
   "metadata": {},
   "outputs": [],
   "source": [
    "def query_rag_lcel(question):\n",
    "    print(f'Question: {question}')\n",
    "    print('-' * 50)\n",
    "\n",
    "    answer = rag_chain_lcel.invoke(question)\n",
    "    print(f'Answer: {answer}')\n",
    "\n",
    "    docs = retriever.get_relevant_documents(question)\n",
    "    print(\"\\nSource Documents:\")\n",
    "    for i,doc in enumerate(docs):\n",
    "        print(f'\\n--- Source {i+1} ---')\n",
    "        print(doc.page_content[:200] + '...')"
   ]
  },
  {
   "cell_type": "code",
   "execution_count": 76,
   "id": "40d3eaf5",
   "metadata": {},
   "outputs": [
    {
     "name": "stdout",
     "output_type": "stream",
     "text": [
      "Question: What is the term 'DL'?\n",
      "--------------------------------------------------\n",
      "Answer: 'DL' stands for Deep Learning, which is a subset of Machine Learning that focuses on automatically learning hierarchical representations from data.\n",
      "\n",
      "Source Documents:\n",
      "\n",
      "--- Source 1 ---\n",
      "Deep Learning (DL)...\n",
      "\n",
      "--- Source 2 ---\n",
      "Bridging ML, DL, and NLP\n",
      "\n",
      "While ML provides the fundamental building blocks for predictive modeling, Deep Learning takes these ideas further by\n",
      "automatically learning hierarchical representations from...\n",
      "\n",
      "--- Source 3 ---\n",
      "Machine Learning (ML)...\n"
     ]
    }
   ],
   "source": [
    "query_rag_lcel(\"What is the term 'DL'?\")"
   ]
  },
  {
   "cell_type": "code",
   "execution_count": null,
   "id": "edb5c682",
   "metadata": {},
   "outputs": [],
   "source": [
    "query_rag_lcel(\"What is the term 'DL'?\")"
   ]
  },
  {
   "cell_type": "markdown",
   "id": "32be9039",
   "metadata": {},
   "source": [
    "##### Adding new documents to the Existing vector store"
   ]
  },
  {
   "cell_type": "code",
   "execution_count": 78,
   "id": "b06c2f67",
   "metadata": {},
   "outputs": [
    {
     "data": {
      "text/plain": [
       "<langchain_community.vectorstores.chroma.Chroma at 0x7f8836447230>"
      ]
     },
     "execution_count": 78,
     "metadata": {},
     "output_type": "execute_result"
    }
   ],
   "source": [
    "vector_store"
   ]
  },
  {
   "cell_type": "code",
   "execution_count": 82,
   "id": "e72a8ddf",
   "metadata": {},
   "outputs": [],
   "source": [
    "new_documet = '''\n",
    "Embeddings\n",
    "Embeddings are dense vector representations of text that capture semantic meaning.\n",
    "Unlike bag-of-words, embeddings place similar words close together in vector space.\n",
    "Popular models:\n",
    "Word2Vec and GloVe (classical).\n",
    "BERT embeddings (contextual).\n",
    "OpenAI embeddings (optimized for search + retrieval).\n",
    "Retrieval-Augmented Generation (RAG)\n",
    "RAG is an architecture that combines a retriever with a generator.\n",
    "The retriever fetches relevant chunks from a vector store based on embeddings similarity.\n",
    "The generator (LLM) conditions on both the query and retrieved docs to produce grounded answers.\n",
    "Advantages:\n",
    "Keeps responses factual.\n",
    "Allows continuous knowledge updates without retraining the LLM.\n",
    "'''"
   ]
  },
  {
   "cell_type": "code",
   "execution_count": 83,
   "id": "a5819567",
   "metadata": {},
   "outputs": [
    {
     "data": {
      "text/plain": [
       "'\\nEmbeddings\\nEmbeddings are dense vector representations of text that capture semantic meaning.\\nUnlike bag-of-words, embeddings place similar words close together in vector space.\\nPopular models:\\nWord2Vec and GloVe (classical).\\nBERT embeddings (contextual).\\nOpenAI embeddings (optimized for search + retrieval).\\nRetrieval-Augmented Generation (RAG)\\nRAG is an architecture that combines a retriever with a generator.\\nThe retriever fetches relevant chunks from a vector store based on embeddings similarity.\\nThe generator (LLM) conditions on both the query and retrieved docs to produce grounded answers.\\nAdvantages:\\nKeeps responses factual.\\nAllows continuous knowledge updates without retraining the LLM.\\n'"
      ]
     },
     "execution_count": 83,
     "metadata": {},
     "output_type": "execute_result"
    }
   ],
   "source": [
    "new_documet"
   ]
  },
  {
   "cell_type": "code",
   "execution_count": 84,
   "id": "fa886b1f",
   "metadata": {},
   "outputs": [],
   "source": [
    "new_doc = Document(\n",
    "    page_content=new_documet,\n",
    "    metadata = {'source':'manual_addition','topic':'embeddings'}\n",
    ")"
   ]
  },
  {
   "cell_type": "code",
   "execution_count": 86,
   "id": "f900a650",
   "metadata": {},
   "outputs": [
    {
     "data": {
      "text/plain": [
       "[Document(metadata={'source': 'manual_addition', 'topic': 'embeddings'}, page_content='Embeddings\\nEmbeddings are dense vector representations of text that capture semantic meaning.\\nUnlike bag-of-words, embeddings place similar words close together in vector space.\\nPopular models:\\nWord2Vec and GloVe (classical).\\nBERT embeddings (contextual).\\nOpenAI embeddings (optimized for search + retrieval).\\nRetrieval-Augmented Generation (RAG)\\nRAG is an architecture that combines a retriever with a generator.'),\n",
       " Document(metadata={'source': 'manual_addition', 'topic': 'embeddings'}, page_content='The retriever fetches relevant chunks from a vector store based on embeddings similarity.\\nThe generator (LLM) conditions on both the query and retrieved docs to produce grounded answers.\\nAdvantages:\\nKeeps responses factual.\\nAllows continuous knowledge updates without retraining the LLM.')]"
      ]
     },
     "execution_count": 86,
     "metadata": {},
     "output_type": "execute_result"
    }
   ],
   "source": [
    "# split the document\n",
    "new_chunks=text_splitter.split_documents([new_doc])\n",
    "new_chunks"
   ]
  },
  {
   "cell_type": "code",
   "execution_count": 85,
   "id": "febbf660",
   "metadata": {},
   "outputs": [
    {
     "data": {
      "text/plain": [
       "Document(metadata={'source': 'manual_addition', 'topic': 'embeddings'}, page_content='\\nEmbeddings\\nEmbeddings are dense vector representations of text that capture semantic meaning.\\nUnlike bag-of-words, embeddings place similar words close together in vector space.\\nPopular models:\\nWord2Vec and GloVe (classical).\\nBERT embeddings (contextual).\\nOpenAI embeddings (optimized for search + retrieval).\\nRetrieval-Augmented Generation (RAG)\\nRAG is an architecture that combines a retriever with a generator.\\nThe retriever fetches relevant chunks from a vector store based on embeddings similarity.\\nThe generator (LLM) conditions on both the query and retrieved docs to produce grounded answers.\\nAdvantages:\\nKeeps responses factual.\\nAllows continuous knowledge updates without retraining the LLM.\\n')"
      ]
     },
     "execution_count": 85,
     "metadata": {},
     "output_type": "execute_result"
    }
   ],
   "source": [
    "new_doc"
   ]
  },
  {
   "cell_type": "code",
   "execution_count": 87,
   "id": "2d3258f0",
   "metadata": {},
   "outputs": [
    {
     "data": {
      "text/plain": [
       "['83d3d240-c365-4fe6-b9dc-142676684f76',\n",
       " 'bf90f595-c408-48ed-80d7-6d5bc304e293']"
      ]
     },
     "execution_count": 87,
     "metadata": {},
     "output_type": "execute_result"
    }
   ],
   "source": [
    "vector_store.add_documents(new_chunks)"
   ]
  },
  {
   "cell_type": "code",
   "execution_count": 88,
   "id": "97e59b69",
   "metadata": {},
   "outputs": [
    {
     "name": "stdout",
     "output_type": "stream",
     "text": [
      "Total vectors now: 12\n"
     ]
    }
   ],
   "source": [
    "print(f'Total vectors now: {vector_store._collection.count()}')"
   ]
  },
  {
   "cell_type": "code",
   "execution_count": 89,
   "id": "e0362054",
   "metadata": {},
   "outputs": [
    {
     "name": "stdout",
     "output_type": "stream",
     "text": [
      "Question: what are all the embeddings models?\n",
      "--------------------------------------------------\n",
      "Answer: The embeddings models mentioned are:\n",
      "\n",
      "1. Word2Vec (classical)\n",
      "2. GloVe (classical)\n",
      "3. BERT embeddings (contextual)\n",
      "4. OpenAI embeddings (optimized for search and retrieval)\n",
      "\n",
      "Source Documents:\n",
      "\n",
      "--- Source 1 ---\n",
      "Embeddings\n",
      "Embeddings are dense vector representations of text that capture semantic meaning.\n",
      "Unlike bag-of-words, embeddings place similar words close together in vector space.\n",
      "Popular models:\n",
      "Word2V...\n",
      "\n",
      "--- Source 2 ---\n",
      "The retriever fetches relevant chunks from a vector store based on embeddings similarity.\n",
      "The generator (LLM) conditions on both the query and retrieved docs to produce grounded answers.\n",
      "Advantages:\n",
      "K...\n",
      "\n",
      "--- Source 3 ---\n",
      "Bridging ML, DL, and NLP\n",
      "\n",
      "While ML provides the fundamental building blocks for predictive modeling, Deep Learning takes these ideas further by\n",
      "automatically learning hierarchical representations from...\n"
     ]
    }
   ],
   "source": [
    "#### Query with the updated vector\n",
    "new_question = \"what are all the embeddings models?\"\n",
    "result=query_rag_lcel(new_question)\n",
    "result"
   ]
  },
  {
   "cell_type": "markdown",
   "id": "48089ffe",
   "metadata": {},
   "source": [
    "#### Advanced RAG techniques \n",
    "- Previous Conversational Context"
   ]
  },
  {
   "cell_type": "code",
   "execution_count": 90,
   "id": "b43c48ef",
   "metadata": {},
   "outputs": [],
   "source": [
    "from langchain.chains import create_history_aware_retriever\n",
    "from langchain_core.prompts import MessagesPlaceholder\n",
    "from langchain_core.messages import HumanMessage,AIMessage"
   ]
  },
  {
   "cell_type": "code",
   "execution_count": 104,
   "id": "e504e78b",
   "metadata": {},
   "outputs": [],
   "source": [
    "from langchain.chains import create_history_aware_retriever\n",
    "from langchain.prompts import ChatPromptTemplate, MessagesPlaceholder\n",
    "\n",
    "\n",
    "contextualize_q_system_prompt = \"\"\"Given a chat history and the latest user question which might reference context\n",
    "in the chat history, formulate a standalone question which can be understood without the chat history.\n",
    "Do not answer the question, just reformulate it if needed, otherwise return it as it is.\"\"\"\n",
    "\n",
    "\n",
    "\n",
    "contextualize_q_prompt = ChatPromptTemplate.from_messages([\n",
    "    (\"system\", contextualize_q_system_prompt),\n",
    "    MessagesPlaceholder(\"chat_history\"),\n",
    "    (\"human\", \"{input}\")\n",
    "])\n"
   ]
  },
  {
   "cell_type": "code",
   "execution_count": 105,
   "id": "e7723a77",
   "metadata": {},
   "outputs": [],
   "source": [
    "history_aware_retriever = create_history_aware_retriever(\n",
    "    llm,\n",
    "    retriever,\n",
    "   contextualize_q_prompt\n",
    ")\n"
   ]
  },
  {
   "cell_type": "code",
   "execution_count": 107,
   "id": "4627e950",
   "metadata": {},
   "outputs": [
    {
     "name": "stdout",
     "output_type": "stream",
     "text": [
      "Conversational RAG chain created!\n"
     ]
    }
   ],
   "source": [
    "qa_system_prompt = \"\"\"you are an assistant for question-answering tasks. Use the following pieces of retrieved context\n",
    "to answer the question. if you dont know the answer, just say that you dont know.\n",
    "use three sentences maximum and keep the answer concise\n",
    "\n",
    "Context: {context}\"\"\"\n",
    "\n",
    "\n",
    "\n",
    "qa_prompt = ChatPromptTemplate.from_messages([\n",
    "    (\"system\", qa_system_prompt),\n",
    "    MessagesPlaceholder(\"chat_history\"),\n",
    "    (\"human\", \"{input}\")\n",
    "])\n",
    "\n",
    "question_answer_chain = create_stuff_documents_chain(llm,qa_prompt)\n",
    "\n",
    "conversational_rag_chain = create_retrieval_chain(\n",
    "    history_aware_retriever,\n",
    "    question_answer_chain\n",
    ")\n",
    "\n",
    "print(\"Conversational RAG chain created!\")"
   ]
  },
  {
   "cell_type": "code",
   "execution_count": 108,
   "id": "687e0ce3",
   "metadata": {},
   "outputs": [
    {
     "name": "stdout",
     "output_type": "stream",
     "text": [
      "Q: What is machine learning?\n",
      "A : Machine Learning is a subfield of Artificial Intelligence that focuses on building algorithms capable of learning patterns from data. Instead of being explicitly programmed, ML systems improve automatically through experience. Common techniques include supervised learning, unsupervised learning, and reinforcement learning.\n"
     ]
    }
   ],
   "source": [
    "chat_history=[]\n",
    "result = conversational_rag_chain.invoke({\n",
    "    \"chat_history\":chat_history,\n",
    "    \"input\":\"What is machine learning?\"\n",
    "})\n",
    "print(f\"Q: What is machine learning?\")\n",
    "print(f\"A : {result['answer']}\")"
   ]
  },
  {
   "cell_type": "code",
   "execution_count": 109,
   "id": "67782031",
   "metadata": {},
   "outputs": [],
   "source": [
    "chat_history.extend([\n",
    "    HumanMessage(content=\"What is machine learning\"),\n",
    "    AIMessage(content=result['answer'])\n",
    "])"
   ]
  },
  {
   "cell_type": "code",
   "execution_count": 110,
   "id": "69089ebd",
   "metadata": {},
   "outputs": [
    {
     "data": {
      "text/plain": [
       "{'chat_history': [HumanMessage(content='What is machine learning', additional_kwargs={}, response_metadata={}),\n",
       "  AIMessage(content='Machine Learning is a subfield of Artificial Intelligence that focuses on building algorithms capable of learning patterns from data. Instead of being explicitly programmed, ML systems improve automatically through experience. Common techniques include supervised learning, unsupervised learning, and reinforcement learning.', additional_kwargs={}, response_metadata={})],\n",
       " 'input': 'What are its main types?',\n",
       " 'context': [Document(metadata={'source': '/tmp/tmpjl6s185h/doc_0.txt'}, page_content='Machine Learning (ML)'),\n",
       "  Document(metadata={'source': '/tmp/tmpjl6s185h/doc_0.txt'}, page_content='Machine Learning is a subfield of Artificial Intelligence that focuses on building algorithms capable of learning patterns from data.\\nInstead of being explicitly programmed to perform tasks, ML systems improve automatically through experience.\\nCommon ML techniques include supervised learning, where the system is trained with labeled data; unsupervised learning,\\nwhich finds hidden structures in unlabeled datasets; and reinforcement learning,'),\n",
       "  Document(metadata={'source': '/tmp/tmpjl6s185h/doc_1.txt'}, page_content='Deep Learning is a specialized branch of Machine Learning that uses artificial neural networks with many layers to process complex data.\\nIt has gained massive popularity in tasks like image classification, speech recognition,\\nand natural language understanding. Convolutional Neural Networks (CNNs) are widely used in computer vision,\\nwhile Recurrent Neural Networks (RNNs) and Transformers are more common in sequential data tasks.')],\n",
       " 'answer': 'The main types of Machine Learning are supervised learning, unsupervised learning, and reinforcement learning. Supervised learning involves training with labeled data, while unsupervised learning finds hidden structures in unlabeled datasets. Reinforcement learning is based on training agents to make decisions through rewards and penalties.'}"
      ]
     },
     "execution_count": 110,
     "metadata": {},
     "output_type": "execute_result"
    }
   ],
   "source": [
    "## Follow up question\n",
    "result1 = conversational_rag_chain.invoke({\n",
    "    \"chat_history\":chat_history,\n",
    "    \"input\":\"What are its main types?\" # Refers to ML from previous question\n",
    "})\n",
    "result1"
   ]
  },
  {
   "cell_type": "code",
   "execution_count": 111,
   "id": "cb57c11d",
   "metadata": {},
   "outputs": [
    {
     "data": {
      "text/plain": [
       "'The main types of Machine Learning are supervised learning, unsupervised learning, and reinforcement learning. Supervised learning involves training with labeled data, while unsupervised learning finds hidden structures in unlabeled datasets. Reinforcement learning is based on training agents to make decisions through rewards and penalties.'"
      ]
     },
     "execution_count": 111,
     "metadata": {},
     "output_type": "execute_result"
    }
   ],
   "source": [
    "result1['answer']"
   ]
  },
  {
   "cell_type": "markdown",
   "id": "335db937",
   "metadata": {},
   "source": [
    "##### Using GROQ LLM"
   ]
  },
  {
   "cell_type": "code",
   "execution_count": 4,
   "id": "6ffb3b09",
   "metadata": {},
   "outputs": [
    {
     "data": {
      "text/plain": [
       "True"
      ]
     },
     "execution_count": 4,
     "metadata": {},
     "output_type": "execute_result"
    }
   ],
   "source": [
    "load_dotenv()"
   ]
  },
  {
   "cell_type": "code",
   "execution_count": 6,
   "id": "1127b999",
   "metadata": {},
   "outputs": [],
   "source": [
    "from langchain_groq import ChatGroq\n",
    "from langchain.chat_models import init_chat_model"
   ]
  },
  {
   "cell_type": "code",
   "execution_count": 7,
   "id": "fd4d65ab",
   "metadata": {},
   "outputs": [],
   "source": [
    "os.environ['GROQ_API_KEY'] = os.getenv('GROQ_API_KEY')"
   ]
  },
  {
   "cell_type": "code",
   "execution_count": 8,
   "id": "0a327136",
   "metadata": {},
   "outputs": [
    {
     "data": {
      "text/plain": [
       "ChatGroq(client=<groq.resources.chat.completions.Completions object at 0x7f595c42bcb0>, async_client=<groq.resources.chat.completions.AsyncCompletions object at 0x7f595ee786e0>, model_name='gemma2-9b-it', model_kwargs={}, groq_api_key=SecretStr('**********'))"
      ]
     },
     "execution_count": 8,
     "metadata": {},
     "output_type": "execute_result"
    }
   ],
   "source": [
    "llm = ChatGroq(model='gemma2-9b-it')\n",
    "llm"
   ]
  },
  {
   "cell_type": "code",
   "execution_count": 9,
   "id": "4a8f7ac5",
   "metadata": {},
   "outputs": [
    {
     "data": {
      "text/plain": [
       "ChatGroq(client=<groq.resources.chat.completions.Completions object at 0x7f595ee5d6d0>, async_client=<groq.resources.chat.completions.AsyncCompletions object at 0x7f595ee5e0d0>, model_name='gemma2-9b-it', model_kwargs={}, groq_api_key=SecretStr('**********'))"
      ]
     },
     "execution_count": 9,
     "metadata": {},
     "output_type": "execute_result"
    }
   ],
   "source": [
    "llm = init_chat_model(model='groq:gemma2-9b-it')\n",
    "llm"
   ]
  },
  {
   "cell_type": "code",
   "execution_count": null,
   "id": "212d0093",
   "metadata": {},
   "outputs": [],
   "source": []
  }
 ],
 "metadata": {
  "kernelspec": {
   "display_name": "RAG",
   "language": "python",
   "name": "python3"
  },
  "language_info": {
   "codemirror_mode": {
    "name": "ipython",
    "version": 3
   },
   "file_extension": ".py",
   "mimetype": "text/x-python",
   "name": "python",
   "nbconvert_exporter": "python",
   "pygments_lexer": "ipython3",
   "version": "3.13.3"
  }
 },
 "nbformat": 4,
 "nbformat_minor": 5
}
