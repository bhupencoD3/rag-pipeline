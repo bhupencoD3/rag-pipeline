{
 "cells": [
  {
   "cell_type": "markdown",
   "id": "1ead93d4",
   "metadata": {},
   "source": [
    "##### Word Documents Processing"
   ]
  },
  {
   "cell_type": "code",
   "execution_count": 1,
   "id": "9f7bf096",
   "metadata": {},
   "outputs": [],
   "source": [
    "from docx import Document as DoxDocument\n",
    "import os"
   ]
  },
  {
   "cell_type": "code",
   "execution_count": 2,
   "id": "a00dc49e",
   "metadata": {},
   "outputs": [],
   "source": [
    "from langchain_community.document_loaders import Docx2txtLoader,UnstructuredWordDocumentLoader"
   ]
  },
  {
   "cell_type": "markdown",
   "id": "a2f16d1c",
   "metadata": {},
   "source": [
    "#### Method:1 Docx2txtLoader"
   ]
  },
  {
   "cell_type": "code",
   "execution_count": 7,
   "id": "d81c77f9",
   "metadata": {},
   "outputs": [
    {
     "name": "stdout",
     "output_type": "stream",
     "text": [
      "Loaded 1 Document(s)\n",
      "content preview: Project Proposal: RAG Implementation\n",
      "\n",
      "Executive Summary\n",
      "\n",
      "This proposal outlines the implementation of a Retrieval-Augmented Generation system for our organization.\n",
      "\n",
      "Objectives\n",
      "\n",
      "Key objectives include:...\n",
      "MetaDeta: {'source': 'data/word_files/proposal.docx'}\n"
     ]
    }
   ],
   "source": [
    "try:\n",
    "    docx_loader = Docx2txtLoader(\"data/word_files/proposal.docx\")\n",
    "    docs = docx_loader.load()\n",
    "\n",
    "    print(f\"Loaded {len(docs)} Document(s)\")\n",
    "    print(f\"content preview: {docs[0].page_content[:200]}...\")\n",
    "    print(f\"MetaDeta: {docs[0].metadata}\")\n",
    "\n",
    "except Exception as e:\n",
    "    print(\"Error\",e)"
   ]
  },
  {
   "cell_type": "markdown",
   "id": "25e8e1c7",
   "metadata": {},
   "source": [
    "##### Method:2 UnstrcuturedWordDocumentLoader "
   ]
  },
  {
   "cell_type": "code",
   "execution_count": 8,
   "id": "d84a12ac",
   "metadata": {},
   "outputs": [
    {
     "name": "stdout",
     "output_type": "stream",
     "text": [
      "Loaded 20 elements\n",
      "\n",
      "Element 1\n",
      "Type: Title\n",
      "Content:Project Proposal: RAG Implementation...\n",
      "\n",
      "Element 2\n",
      "Type: Title\n",
      "Content:Executive Summary...\n",
      "\n",
      "Element 3\n",
      "Type: NarrativeText\n",
      "Content:This proposal outlines the implementation of a Retrieval-Augmented Generation system for our organiz...\n"
     ]
    }
   ],
   "source": [
    "try:\n",
    "    unstructured_loader = UnstructuredWordDocumentLoader(\"data/word_files/proposal.docx\",mode=\"elements\")\n",
    "    unstructured_docs = unstructured_loader.load()\n",
    "\n",
    "    print(f\"Loaded {len(unstructured_docs)} elements\")\n",
    "    for i , docs in enumerate(unstructured_docs[:3]):\n",
    "        print(f\"\\nElement {i+1}\")\n",
    "        print(f\"Type: {docs.metadata.get('category','unknown')}\")\n",
    "        print(f\"Content:{docs.page_content[:100]}...\")\n",
    "\n",
    "\n",
    "except Exception as e:\n",
    "    print(f\"Error {e}\")"
   ]
  },
  {
   "cell_type": "code",
   "execution_count": 9,
   "id": "ceb08a1b",
   "metadata": {},
   "outputs": [
    {
     "data": {
      "text/plain": [
       "Document(metadata={'source': 'data/word_files/proposal.docx', 'category_depth': 0, 'file_directory': 'data/word_files', 'filename': 'proposal.docx', 'last_modified': '2025-06-28T15:37:12', 'languages': ['eng'], 'filetype': 'application/vnd.openxmlformats-officedocument.wordprocessingml.document', 'category': 'Title', 'element_id': 'bb0410bfd160ef866f8d4357b0949db2'}, page_content='Project Proposal: RAG Implementation')"
      ]
     },
     "execution_count": 9,
     "metadata": {},
     "output_type": "execute_result"
    }
   ],
   "source": [
    "unstructured_docs[0]"
   ]
  },
  {
   "cell_type": "code",
   "execution_count": null,
   "id": "48fe1efa",
   "metadata": {},
   "outputs": [],
   "source": []
  }
 ],
 "metadata": {
  "kernelspec": {
   "display_name": "RAG",
   "language": "python",
   "name": "python3"
  },
  "language_info": {
   "codemirror_mode": {
    "name": "ipython",
    "version": 3
   },
   "file_extension": ".py",
   "mimetype": "text/x-python",
   "name": "python",
   "nbconvert_exporter": "python",
   "pygments_lexer": "ipython3",
   "version": "3.13.3"
  }
 },
 "nbformat": 4,
 "nbformat_minor": 5
}
