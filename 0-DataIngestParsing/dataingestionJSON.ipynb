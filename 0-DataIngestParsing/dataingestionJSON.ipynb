{
 "cells": [
  {
   "cell_type": "markdown",
   "id": "22f38cec",
   "metadata": {},
   "source": [
    "##### JSON parsing and Processing"
   ]
  },
  {
   "cell_type": "code",
   "execution_count": 1,
   "id": "b87550b9",
   "metadata": {},
   "outputs": [],
   "source": [
    "from langchain_community.document_loaders import JSONLoader\n",
    "import json"
   ]
  },
  {
   "cell_type": "markdown",
   "id": "7943633f",
   "metadata": {},
   "source": [
    "###### Method:1 JSONLoader with jq_schema"
   ]
  },
  {
   "cell_type": "code",
   "execution_count": 3,
   "id": "ab51eb8d",
   "metadata": {},
   "outputs": [
    {
     "name": "stdout",
     "output_type": "stream",
     "text": [
      "Loaded 2 employee documents\n",
      "First employee: {\"id\": 1, \"name\": \"John Doe\", \"role\": \"Software Engineer\", \"skills\": [\"Python\", \"JavaScript\", \"React\"], \"projects\": [{\"name\": \"RAG System\", \"status\": \"In Progress\"}, {\"name\": \"Data Pipeline\", \"status\"\n"
     ]
    }
   ],
   "source": [
    "employee_loader = JSONLoader(\n",
    "    file_path='data/json_files/company_data.json',\n",
    "    jq_schema='.employees[]',\n",
    "    text_content=False\n",
    ")    \n",
    "\n",
    "\n",
    "employee_docs = employee_loader.load()\n",
    "print(f\"Loaded {len(employee_docs)} employee documents\")\n",
    "print(f\"First employee: {employee_docs[0].page_content[:200]}\")"
   ]
  },
  {
   "cell_type": "code",
   "execution_count": 4,
   "id": "9672583a",
   "metadata": {},
   "outputs": [
    {
     "name": "stdout",
     "output_type": "stream",
     "text": [
      "[Document(metadata={'source': '/home/bhupen/Python_Learning/RAG/DataIngestParsing/data/json_files/company_data.json', 'seq_num': 1}, page_content='{\"id\": 1, \"name\": \"John Doe\", \"role\": \"Software Engineer\", \"skills\": [\"Python\", \"JavaScript\", \"React\"], \"projects\": [{\"name\": \"RAG System\", \"status\": \"In Progress\"}, {\"name\": \"Data Pipeline\", \"status\": \"Completed\"}]}'), Document(metadata={'source': '/home/bhupen/Python_Learning/RAG/DataIngestParsing/data/json_files/company_data.json', 'seq_num': 2}, page_content='{\"id\": 2, \"name\": \"Jane Smith\", \"role\": \"Data Scientist\", \"skills\": [\"Python\", \"Machine Learning\", \"SQL\"], \"projects\": [{\"name\": \"ML Model\", \"status\": \"In Progress\"}, {\"name\": \"Analytics Dashboard\", \"status\": \"Planning\"}]}')]\n"
     ]
    }
   ],
   "source": [
    "print(employee_docs)"
   ]
  },
  {
   "cell_type": "markdown",
   "id": "d82f7aff",
   "metadata": {},
   "source": [
    "###### Method:2 Custom JSON parsing for Complex structures"
   ]
  },
  {
   "cell_type": "code",
   "execution_count": 5,
   "id": "deb2f2db",
   "metadata": {},
   "outputs": [],
   "source": [
    "from langchain_core.documents import Document"
   ]
  },
  {
   "cell_type": "code",
   "execution_count": 15,
   "id": "57595651",
   "metadata": {},
   "outputs": [],
   "source": [
    "def process_json_intelligently(file_path:str):\n",
    "    with open(file_path,'r') as f:\n",
    "        data = json.load(f)\n",
    "\n",
    "    documents = []\n",
    "\n",
    "    for emp in data.get('employees',[]):\n",
    "        content = f\"\"\"Employee Profile:\n",
    "        Name : {emp['name']}\n",
    "        Role: {emp['role']}\n",
    "        Skills: {','.join(emp['skills'])}\n",
    "        \n",
    "        Projects:\"\"\"\n",
    "        for proj in emp.get('projects',[]):\n",
    "            content += f\"\\n- {proj['name']} (Status: {proj['status']})\"\n",
    "\n",
    "        doc = Document(\n",
    "            page_content=content,\n",
    "            metadata={\n",
    "                'source':file_path,\n",
    "                'data_type':'employee_profile',\n",
    "                'employee_id':emp['id'],\n",
    "                'employee_name':emp['name'],\n",
    "                'role':emp['role']\n",
    "            }\n",
    "        )\n",
    "\n",
    "        documents.append(doc)\n",
    "    return documents\n",
    "    "
   ]
  },
  {
   "cell_type": "code",
   "execution_count": 16,
   "id": "fee9bf91",
   "metadata": {},
   "outputs": [
    {
     "data": {
      "text/plain": [
       "[Document(metadata={'source': 'data/json_files/company_data.json', 'data_type': 'employee_profile', 'employee_id': 1, 'employee_name': 'John Doe', 'role': 'Software Engineer'}, page_content='Employee Profile:\\n        Name : John Doe\\n        Role: Software Engineer\\n        Skills: Python,JavaScript,React\\n\\n        Projects:\\n- RAG System (Status: In Progress)\\n- Data Pipeline (Status: Completed)'),\n",
       " Document(metadata={'source': 'data/json_files/company_data.json', 'data_type': 'employee_profile', 'employee_id': 2, 'employee_name': 'Jane Smith', 'role': 'Data Scientist'}, page_content='Employee Profile:\\n        Name : Jane Smith\\n        Role: Data Scientist\\n        Skills: Python,Machine Learning,SQL\\n\\n        Projects:\\n- ML Model (Status: In Progress)\\n- Analytics Dashboard (Status: Planning)')]"
      ]
     },
     "execution_count": 16,
     "metadata": {},
     "output_type": "execute_result"
    }
   ],
   "source": [
    "process_json_intelligently('data/json_files/company_data.json')"
   ]
  },
  {
   "cell_type": "code",
   "execution_count": null,
   "id": "28448a05",
   "metadata": {},
   "outputs": [],
   "source": []
  }
 ],
 "metadata": {
  "kernelspec": {
   "display_name": "RAG",
   "language": "python",
   "name": "python3"
  },
  "language_info": {
   "codemirror_mode": {
    "name": "ipython",
    "version": 3
   },
   "file_extension": ".py",
   "mimetype": "text/x-python",
   "name": "python",
   "nbconvert_exporter": "python",
   "pygments_lexer": "ipython3",
   "version": "3.13.3"
  }
 },
 "nbformat": 4,
 "nbformat_minor": 5
}
