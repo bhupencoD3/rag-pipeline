{
 "cells": [
  {
   "cell_type": "markdown",
   "id": "5a90abb6",
   "metadata": {},
   "source": [
    "##### CSV and Excel files - Structured Data"
   ]
  },
  {
   "cell_type": "code",
   "execution_count": 1,
   "id": "6de290df",
   "metadata": {},
   "outputs": [],
   "source": [
    "import pandas as pd\n",
    "import os\n"
   ]
  },
  {
   "cell_type": "markdown",
   "id": "4f3d6fbd",
   "metadata": {},
   "source": [
    "##### CSV Processing"
   ]
  },
  {
   "cell_type": "code",
   "execution_count": 4,
   "id": "1337f4c7",
   "metadata": {},
   "outputs": [],
   "source": [
    "from langchain_community.document_loaders import CSVLoader\n",
    "from langchain_community.document_loaders import UnstructuredCSVLoader"
   ]
  },
  {
   "cell_type": "markdown",
   "id": "755a00f4",
   "metadata": {},
   "source": [
    "##### Method:1 CSV_loader"
   ]
  },
  {
   "cell_type": "code",
   "execution_count": 7,
   "id": "2c176c58",
   "metadata": {},
   "outputs": [
    {
     "name": "stdout",
     "output_type": "stream",
     "text": [
      "Loaded 5 documents (one per row)\n",
      "\n",
      "First Document\n",
      "Content: Product: Laptop\n",
      "Category: Electronics\n",
      "Price: 999.99\n",
      "Stock: 50\n",
      "Description: High-performance laptop with 16GB RAM and 512GB SSD\n",
      "metadata: {'source': 'data/structured_files/products.csv', 'row': 0}\n"
     ]
    }
   ],
   "source": [
    "csv_loader = CSVLoader(\n",
    "    file_path='data/structured_files/products.csv',\n",
    "    encoding='utf-8',\n",
    "    csv_args={\n",
    "        'delimiter':',',\n",
    "        'quotechar':'\"'\n",
    "    }\n",
    ")\n",
    "\n",
    "\n",
    "csv_docs = csv_loader.load()\n",
    "print(f\"Loaded {len(csv_docs)} documents (one per row)\")\n",
    "print(\"\\nFirst Document\")\n",
    "print(f\"Content: {csv_docs[0].page_content}\")\n",
    "print(f\"metadata: {csv_docs[0].metadata}\")\n"
   ]
  },
  {
   "cell_type": "code",
   "execution_count": 8,
   "id": "653dec3c",
   "metadata": {},
   "outputs": [
    {
     "name": "stdout",
     "output_type": "stream",
     "text": [
      "[Document(metadata={'source': 'data/structured_files/products.csv', 'row': 0}, page_content='Product: Laptop\\nCategory: Electronics\\nPrice: 999.99\\nStock: 50\\nDescription: High-performance laptop with 16GB RAM and 512GB SSD'), Document(metadata={'source': 'data/structured_files/products.csv', 'row': 1}, page_content='Product: Mouse\\nCategory: Accessories\\nPrice: 29.99\\nStock: 200\\nDescription: Wireless optical mouse with ergonomic design'), Document(metadata={'source': 'data/structured_files/products.csv', 'row': 2}, page_content='Product: Keyboard\\nCategory: Accessories\\nPrice: 79.99\\nStock: 150\\nDescription: Mechanical keyboard with RGB backlighting'), Document(metadata={'source': 'data/structured_files/products.csv', 'row': 3}, page_content='Product: Monitor\\nCategory: Electronics\\nPrice: 299.99\\nStock: 75\\nDescription: 27-inch 4K monitor with HDR support'), Document(metadata={'source': 'data/structured_files/products.csv', 'row': 4}, page_content='Product: Webcam\\nCategory: Electronics\\nPrice: 89.99\\nStock: 100\\nDescription: 1080p webcam with noise cancellation')]\n"
     ]
    }
   ],
   "source": [
    "print(csv_docs)"
   ]
  },
  {
   "cell_type": "markdown",
   "id": "aadebd8e",
   "metadata": {},
   "source": [
    "###### Method:2 Custom CSV processing for better control"
   ]
  },
  {
   "cell_type": "code",
   "execution_count": 19,
   "id": "e247526f",
   "metadata": {},
   "outputs": [],
   "source": [
    "from langchain_core.documents import Document"
   ]
  },
  {
   "cell_type": "code",
   "execution_count": 20,
   "id": "a8d79e65",
   "metadata": {},
   "outputs": [],
   "source": [
    "def process_csv_intelligently(file_path:str):\n",
    "    df = pd.read_csv(file_path)\n",
    "    documents = []\n",
    "\n",
    "\n",
    "    for idx,row in df.iterrows():\n",
    "        content =  f\"\"\"Product Information:\n",
    "        Name: {row['Product']}\n",
    "        Category: {row['Category']}\n",
    "        Price: ${row['Price']}\n",
    "        Stock: {row['Stock']} units\n",
    "        Description: {row['Description']}\"\"\"\n",
    "\n",
    "    \n",
    "        doc = Document(\n",
    "            page_content = content,\n",
    "            metadata = {\n",
    "                'source':file_path,\n",
    "                'row_index':idx,\n",
    "                'product_name':row['Product'],\n",
    "                'category':row['Category'],\n",
    "                'price':row['Price'],\n",
    "                'data_types':'product_info'\n",
    "            }\n",
    "        )\n",
    "\n",
    "        documents.append(doc)\n",
    "\n",
    "    return documents"
   ]
  },
  {
   "cell_type": "code",
   "execution_count": 21,
   "id": "402184e1",
   "metadata": {},
   "outputs": [
    {
     "data": {
      "text/plain": [
       "[Document(metadata={'source': 'data/structured_files/products.csv', 'row_index': 0, 'product_name': 'Laptop', 'category': 'Electronics', 'price': 999.99, 'data_types': 'product_info'}, page_content='Product Information:\\n        Name: Laptop\\n        Category: Electronics\\n        Price: $999.99\\n        Stock: 50 units\\n        Description: High-performance laptop with 16GB RAM and 512GB SSD'),\n",
       " Document(metadata={'source': 'data/structured_files/products.csv', 'row_index': 1, 'product_name': 'Mouse', 'category': 'Accessories', 'price': 29.99, 'data_types': 'product_info'}, page_content='Product Information:\\n        Name: Mouse\\n        Category: Accessories\\n        Price: $29.99\\n        Stock: 200 units\\n        Description: Wireless optical mouse with ergonomic design'),\n",
       " Document(metadata={'source': 'data/structured_files/products.csv', 'row_index': 2, 'product_name': 'Keyboard', 'category': 'Accessories', 'price': 79.99, 'data_types': 'product_info'}, page_content='Product Information:\\n        Name: Keyboard\\n        Category: Accessories\\n        Price: $79.99\\n        Stock: 150 units\\n        Description: Mechanical keyboard with RGB backlighting'),\n",
       " Document(metadata={'source': 'data/structured_files/products.csv', 'row_index': 3, 'product_name': 'Monitor', 'category': 'Electronics', 'price': 299.99, 'data_types': 'product_info'}, page_content='Product Information:\\n        Name: Monitor\\n        Category: Electronics\\n        Price: $299.99\\n        Stock: 75 units\\n        Description: 27-inch 4K monitor with HDR support'),\n",
       " Document(metadata={'source': 'data/structured_files/products.csv', 'row_index': 4, 'product_name': 'Webcam', 'category': 'Electronics', 'price': 89.99, 'data_types': 'product_info'}, page_content='Product Information:\\n        Name: Webcam\\n        Category: Electronics\\n        Price: $89.99\\n        Stock: 100 units\\n        Description: 1080p webcam with noise cancellation')]"
      ]
     },
     "execution_count": 21,
     "metadata": {},
     "output_type": "execute_result"
    }
   ],
   "source": [
    "process_csv_intelligently('data/structured_files/products.csv')"
   ]
  },
  {
   "cell_type": "markdown",
   "id": "57c9364b",
   "metadata": {},
   "source": [
    "###### Excel Processing"
   ]
  },
  {
   "cell_type": "code",
   "execution_count": 24,
   "id": "bdc6ebc1",
   "metadata": {},
   "outputs": [],
   "source": [
    "def process_excel_with_pandas(file_path):\n",
    "    documents = []\n",
    "\n",
    "    excel_file = pd.ExcelFile(file_path)\n",
    "\n",
    "    for sheet_name in excel_file.sheet_names:\n",
    "        df = pd.read_excel(file_path,sheet_name=sheet_name)\n",
    "\n",
    "        sheet_content = f\"Sheet: {sheet_name}\\n\"\n",
    "        sheet_content += f\"Columns: {','.join(df.columns)}\\n\"\n",
    "        sheet_content += f\"Rows: {len(df)}\\n\\n\"\n",
    "        sheet_content += df.to_string(index=False)\n",
    "\n",
    "\n",
    "\n",
    "        doc = Document(\n",
    "            page_content=sheet_content,\n",
    "            metadata={\n",
    "                'source':file_path,\n",
    "                'sheet_name':sheet_name,\n",
    "                'num_rows':len(df),\n",
    "                'num_columns':len(df.columns),\n",
    "                'data_types':'excel_sheet'\n",
    "            }\n",
    "        )\n",
    "        documents.append(doc)\n",
    "\n",
    "    return documents\n",
    "\n"
   ]
  },
  {
   "cell_type": "code",
   "execution_count": 25,
   "id": "f018a57c",
   "metadata": {},
   "outputs": [
    {
     "name": "stdout",
     "output_type": "stream",
     "text": [
      "Processed 2 sheets\n"
     ]
    }
   ],
   "source": [
    "excel_docs = process_excel_with_pandas('data/structured_files/inventory.xlsx')\n",
    "print(f\"Processed {len(excel_docs)} sheets\")"
   ]
  },
  {
   "cell_type": "code",
   "execution_count": 26,
   "id": "c8a07c63",
   "metadata": {},
   "outputs": [
    {
     "name": "stdout",
     "output_type": "stream",
     "text": [
      "[Document(metadata={'source': 'data/structured_files/inventory.xlsx', 'sheet_name': 'Products', 'num_rows': 5, 'num_columns': 5, 'data_types': 'excel_sheet'}, page_content='Sheet: Products\\nColumns: Product,Category,Price,Stock,Description\\nRows: 5\\n\\n Product    Category  Price  Stock                                         Description\\n  Laptop Electronics 999.99     50 High-performance laptop with 16GB RAM and 512GB SSD\\n   Mouse Accessories  29.99    200        Wireless optical mouse with ergonomic design\\nKeyboard Accessories  79.99    150           Mechanical keyboard with RGB backlighting\\n Monitor Electronics 299.99     75                 27-inch 4K monitor with HDR support\\n  Webcam Electronics  89.99    100                1080p webcam with noise cancellation'), Document(metadata={'source': 'data/structured_files/inventory.xlsx', 'sheet_name': 'Summary', 'num_rows': 2, 'num_columns': 3, 'data_types': 'excel_sheet'}, page_content='Sheet: Summary\\nColumns: Category,Total_Items,Total_Value\\nRows: 2\\n\\n   Category  Total_Items  Total_Value\\nElectronics            3      1389.97\\nAccessories            2       109.98')]\n"
     ]
    }
   ],
   "source": [
    "print(excel_docs)"
   ]
  },
  {
   "cell_type": "markdown",
   "id": "aa8495d5",
   "metadata": {},
   "source": [
    "###### Method:2 UnstructuredExcelLoader"
   ]
  },
  {
   "cell_type": "code",
   "execution_count": 27,
   "id": "d3ba3e91",
   "metadata": {},
   "outputs": [],
   "source": [
    "from langchain_community.document_loaders import UnstructuredExcelLoader"
   ]
  },
  {
   "cell_type": "code",
   "execution_count": 29,
   "id": "6edd1581",
   "metadata": {},
   "outputs": [],
   "source": [
    "try:\n",
    "    excel_loader = UnstructuredExcelLoader(\n",
    "        'data/structured_files/inventory.xlsx',\n",
    "        mode='elements'\n",
    "    )\n",
    "\n",
    "    unstructured_docs = excel_loader.load()\n",
    "\n",
    "\n",
    "except Exception as e:\n",
    "    print(e)\n"
   ]
  },
  {
   "cell_type": "code",
   "execution_count": 31,
   "id": "8ba5fc30",
   "metadata": {},
   "outputs": [
    {
     "name": "stdout",
     "output_type": "stream",
     "text": [
      "[Document(metadata={'source': 'data/structured_files/inventory.xlsx', 'file_directory': 'data/structured_files', 'filename': 'inventory.xlsx', 'last_modified': '2025-07-07T14:26:30', 'page_name': 'Products', 'page_number': 1, 'text_as_html': '<table><tr><td>Product</td><td>Category</td><td>Price</td><td>Stock</td><td>Description</td></tr><tr><td>Laptop</td><td>Electronics</td><td>999.99</td><td>50</td><td>High-performance laptop with 16GB RAM and 512GB SSD</td></tr><tr><td>Mouse</td><td>Accessories</td><td>29.99</td><td>200</td><td>Wireless optical mouse with ergonomic design</td></tr><tr><td>Keyboard</td><td>Accessories</td><td>79.99</td><td>150</td><td>Mechanical keyboard with RGB backlighting</td></tr><tr><td>Monitor</td><td>Electronics</td><td>299.99</td><td>75</td><td>27-inch 4K monitor with HDR support</td></tr><tr><td>Webcam</td><td>Electronics</td><td>89.99</td><td>100</td><td>1080p webcam with noise cancellation</td></tr></table>', 'languages': ['eng'], 'filetype': 'application/vnd.openxmlformats-officedocument.spreadsheetml.sheet', 'category': 'Table', 'element_id': '6c3514d8bca67e1cbfa020192b595264'}, page_content='Product Category Price Stock Description Laptop Electronics 999.99 50 High-performance laptop with 16GB RAM and 512GB SSD Mouse Accessories 29.99 200 Wireless optical mouse with ergonomic design Keyboard Accessories 79.99 150 Mechanical keyboard with RGB backlighting Monitor Electronics 299.99 75 27-inch 4K monitor with HDR support Webcam Electronics 89.99 100 1080p webcam with noise cancellation'), Document(metadata={'source': 'data/structured_files/inventory.xlsx', 'file_directory': 'data/structured_files', 'filename': 'inventory.xlsx', 'last_modified': '2025-07-07T14:26:30', 'page_name': 'Summary', 'page_number': 2, 'text_as_html': '<table><tr><td>Category</td><td>Total_Items</td><td>Total_Value</td></tr><tr><td>Electronics</td><td>3</td><td>1389.97</td></tr><tr><td>Accessories</td><td>2</td><td>109.98</td></tr></table>', 'languages': ['eng'], 'filetype': 'application/vnd.openxmlformats-officedocument.spreadsheetml.sheet', 'category': 'Table', 'element_id': 'dcf57c06f0490353601c69aaefb62f83'}, page_content='Category Total_Items Total_Value Electronics 3 1389.97 Accessories 2 109.98')]\n"
     ]
    }
   ],
   "source": [
    "print(unstructured_docs)"
   ]
  },
  {
   "cell_type": "code",
   "execution_count": null,
   "id": "178179d4",
   "metadata": {},
   "outputs": [],
   "source": []
  }
 ],
 "metadata": {
  "kernelspec": {
   "display_name": "RAG",
   "language": "python",
   "name": "python3"
  },
  "language_info": {
   "codemirror_mode": {
    "name": "ipython",
    "version": 3
   },
   "file_extension": ".py",
   "mimetype": "text/x-python",
   "name": "python",
   "nbconvert_exporter": "python",
   "pygments_lexer": "ipython3",
   "version": "3.13.3"
  }
 },
 "nbformat": 4,
 "nbformat_minor": 5
}
